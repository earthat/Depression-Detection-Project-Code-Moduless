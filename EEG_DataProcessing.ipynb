{
 "cells": [
  {
   "cell_type": "code",
   "execution_count": 1,
   "metadata": {},
   "outputs": [],
   "source": [
    "# !pip install mne\n",
    "# !pip install h5py\n",
    "\n",
    "# !pip install datalad-installer\n",
    "# !datalad-installer git-annex -m datalad/packages\n",
    "# !pip install datalad"
   ]
  },
  {
   "cell_type": "code",
   "execution_count": 2,
   "metadata": {},
   "outputs": [
    {
     "name": "stderr",
     "output_type": "stream",
     "text": [
      "D:\\tmp\\ipykernel_7984\\3889199825.py:3: DeprecationWarning: \n",
      "Pyarrow will become a required dependency of pandas in the next major release of pandas (pandas 3.0),\n",
      "(to allow more performant data types, such as the Arrow string type, and better interoperability with other libraries)\n",
      "but was not found to be installed on your system.\n",
      "If this would cause problems for you,\n",
      "please provide us feedback at https://github.com/pandas-dev/pandas/issues/54466\n",
      "        \n",
      "  import pandas as pd\n"
     ]
    }
   ],
   "source": [
    "import sys\n",
    "import numpy as np\n",
    "import pandas as pd\n",
    "import mne\n",
    "import os\n",
    "import scipy.io\n",
    "import scipy.signal \n",
    "from functools import partial\n",
    "import matplotlib.pyplot as plt\n",
    "import h5py\n",
    "import pickle\n",
    "import time"
   ]
  },
  {
   "cell_type": "code",
   "execution_count": 3,
   "metadata": {},
   "outputs": [],
   "source": [
    "channelsList = ['FP1', 'FP2', 'F3', 'F4', 'C3', 'C4', 'P3', 'P4', 'O1', 'O2', 'F7', 'F8', 'CP3', 'CP4', 'CP5', 'CP6', 'FZ', 'CZ', 'PZ']\n",
    "sampleFrequency = 500"
   ]
  },
  {
   "cell_type": "code",
   "execution_count": 4,
   "metadata": {},
   "outputs": [],
   "source": [
    "class SignalExtraction():\n",
    "\n",
    "    @staticmethod\n",
    "    def fn_signal_extraction_openneuro(raw_signal_obj, channels_subset=None):\n",
    "        dict_x, dict_y = {}, {}\n",
    "        for channel in raw_signal_obj.ch_names:\n",
    "            signal_channel = raw_signal_obj[channel]\n",
    "            y, x = signal_channel\n",
    "            y, x = y.flatten(), x.flatten()\n",
    "            dict_y[channel] = y\n",
    "            dict_x[channel] = x\n",
    "        signal_df = pd.DataFrame(dict_x)\n",
    "        signal_df = signal_df[channels_subset] if channels_subset else signal_df\n",
    "        signal_np = np.array(signal_df).transpose()\n",
    "        return signal_np\n",
    "    \n",
    "    @staticmethod\n",
    "    def fn_signal_extraction_predict_d006(raw_signal_obj, channels_subset=None):\n",
    "        raw_signal = raw_signal_obj['EEG'][0][0]\n",
    "        channels = [i[0][0] for i in raw_signal[21].reshape(-1)]\n",
    "        signals = raw_signal[15]\n",
    "        control_treatment = raw_signal[0][0]\n",
    "        label = raw_signal[-2][0]\n",
    "        # label_binary = 0 if label == 'no' else (1 if label == 'yes' else -1)\n",
    "        assert signals.shape[0] == len(channels)\n",
    "        signals = signals.transpose()\n",
    "        signal_df = pd.DataFrame(signals, columns=channels)\n",
    "        signal_df = signal_df[channels_subset] if channels_subset else signal_df\n",
    "        signal_np = np.array(signal_df).transpose()\n",
    "        return signal_np, control_treatment, label\n",
    "    \n",
    "    @staticmethod\n",
    "    def read_mat_iterator(path, num: None):\n",
    "        lst = []\n",
    "        i = 0\n",
    "        for root, _, files in os.walk(path):\n",
    "            for name in files:\n",
    "                i = i+1\n",
    "                mat_file = os.path.join(root, name)\n",
    "                mat = scipy.io.loadmat(mat_file)\n",
    "                signal_np, control_treatment, label = SignalExtraction.fn_signal_extraction_predict_d006(mat, channelsList)\n",
    "                lst.append((signal_np, control_treatment, label))\n",
    "                if num and i == num:\n",
    "                    return lst\n",
    "        return lst\n",
    "    \n",
    "    \n",
    "    \n",
    "    @staticmethod\n",
    "    def get_participants_data_openneuro(file):\n",
    "        df_participants = pd.read_csv(file, delimiter=\"\\t\")\n",
    "        return df_participants\n",
    "    \n",
    "    @staticmethod\n",
    "    def get_electrodes_coordinates(file, channelsList):\n",
    "        df_coordinates = pd.read_csv(file, delimiter=\"\\t\")\n",
    "        df1 = df_coordinates[df_coordinates.name.map(lambda x: x in channelsList)]\n",
    "        df2 = df1.set_index('name')\n",
    "        df3 = df2.reindex(channelsList)\n",
    "        return df3\n",
    "    \n",
    "    @staticmethod\n",
    "    def fn_label_extraction_openneuro(subject, df):\n",
    "        BDI_obj = df[df.participant_id == subject].BDI\n",
    "        return BDI_obj.values[0]\n",
    "    \n",
    "    @staticmethod\n",
    "    def read_mne_iterator(path, num: None):\n",
    "        lst = []\n",
    "        i = 0\n",
    "        df = SignalExtraction.get_participants_data_openneuro(path+'participants.tsv')\n",
    "\n",
    "        def fn_read_EEG(root, run, channelsList):\n",
    "            set_file = run['set']\n",
    "            coordiantes_file = run['electrodes']\n",
    "            name_split = set_file.split('_')\n",
    "            subject_id = name_split[0]+'_'+name_split[2]\n",
    "            bdi = SignalExtraction.fn_label_extraction_openneuro(name_split[0], df)\n",
    "            mne_file = os.path.join(root, set_file)\n",
    "            mne_obj = mne.io.read_raw_eeglab(mne_file)\n",
    "            signal_np = SignalExtraction.fn_signal_extraction_openneuro(mne_obj, channelsList)\n",
    "            coordiantesFile = os.path.join(root, coordiantes_file)\n",
    "            df_coordinates = SignalExtraction.get_electrodes_coordinates(coordiantesFile, channelsList)\n",
    "            return subject_id, signal_np, df_coordinates, bdi\n",
    "\n",
    "        for root, _, files in os.walk(path):\n",
    "            if root.endswith('eeg'):\n",
    "                run1, run2 = {}, {}\n",
    "                for name in files:\n",
    "                    if '_run-01_' in name:\n",
    "                        if '_eeg.set' in name:\n",
    "                            run1['set'] = name\n",
    "                        if '_electrodes.tsv' in name:\n",
    "                            run1['electrodes'] = name\n",
    "                    if '_run-02_' in name:\n",
    "                        if '_eeg.set' in name:\n",
    "                            run2['set'] = name\n",
    "                        if '_electrodes.tsv' in name:\n",
    "                            run2['electrodes'] = name\n",
    "                \n",
    "                print('<<<<<<<Processing {}>>>>>>>'.format(root))\n",
    "                for run in [run1, run2]:\n",
    "                    if run:\n",
    "                        try:\n",
    "                            subject_id, signal_np, df_coordinates, bdi = fn_read_EEG(root, run, channelsList)\n",
    "                            lst.append((subject_id, signal_np, df_coordinates, bdi))\n",
    "                        except Exception:\n",
    "                            print('<<<<<<<Error in {}>>>>>>>'.format(run))\n",
    "                            continue\n",
    "                i = i+1\n",
    "                if num and i == num:\n",
    "                    return lst\n",
    "        return lst"
   ]
  },
  {
   "cell_type": "code",
   "execution_count": 5,
   "metadata": {},
   "outputs": [],
   "source": [
    "class SignalProcessing():\n",
    "\n",
    "    @staticmethod\n",
    "    def bandpass_filter(edges: list[float], sample_rate: float, poles: int, data: np.ndarray):\n",
    "        sos = scipy.signal.butter(poles, edges, 'bandpass', fs=sample_rate, output='sos')\n",
    "        filtered_data = scipy.signal.sosfiltfilt(sos, data)\n",
    "        return filtered_data\n",
    "    \n",
    "    @staticmethod\n",
    "    def notch_filter(frequency_toRemove: float, quality_factor: float, sample_frequency: float, data: np.ndarray):\n",
    "        b, a = scipy.signal.iirnotch(frequency_toRemove, quality_factor, sample_frequency)\n",
    "        return b, a\n",
    "    \n",
    "    @staticmethod\n",
    "    def resample(data: np.ndarray, sample_frequency: float, downsample_frequency: float):\n",
    "        n = data.shape[1]\n",
    "        num = (n//sample_frequency)*downsample_frequency\n",
    "        return scipy.signal.resample(data, num, axis=1)\n",
    "        \n",
    "    @staticmethod\n",
    "    def data_augmentation(signal, sample_freq: int, window_size: int, stride_size: int):\n",
    "        N = signal.shape[1]\n",
    "        f = window_size*sample_freq\n",
    "        s = stride_size*sample_freq\n",
    "        n = (N-f+s)//s\n",
    "        lst = [signal[:, i*s:i*s+f] for i in range(n)]\n",
    "        tensor = np.stack(lst, axis=0)\n",
    "        return tensor\n",
    "    \n",
    "    @staticmethod\n",
    "    def fn_tensor(signal, n_slices):\n",
    "        signal_slices = np.hsplit(signal, n_slices)\n",
    "        tensor = np.stack(signal_slices, axis=0)\n",
    "        return tensor\n",
    "    \n",
    "    @staticmethod\n",
    "    def tensor_generator(signal, sample_freq, time_slice_size):\n",
    "        n = signal.shape[1]\n",
    "        assert n%sample_freq == 0\n",
    "        t = n//sample_freq\n",
    "        assert t%time_slice_size == 0\n",
    "        n_time_slices = t//time_slice_size\n",
    "        return SignalProcessing.fn_tensor(signal, n_time_slices)\n",
    "    \n",
    "    @staticmethod\n",
    "    def signal_processing(np_array, sample_freq, band_freq_range, downsample_freq, slice_size, sub_slice_size):\n",
    "    \n",
    "        bandpass_filter = partial(SignalProcessing.bandpass_filter, band_freq_range, sample_freq, 5)\n",
    "        signal_processed1 = np.apply_along_axis(bandpass_filter, 1, np_array)\n",
    "        signal_processed2 = SignalProcessing.resample(signal_processed1, sample_freq, downsample_freq)\n",
    "\n",
    "        window_size = slice_size\n",
    "        stride_size = window_size//3\n",
    "        signal_augmented = SignalProcessing.data_augmentation(signal_processed2, downsample_freq, window_size, stride_size)\n",
    "\n",
    "        signal_tensors = [SignalProcessing.tensor_generator(signal_slice, downsample_freq, sub_slice_size) for signal_slice in signal_augmented]\n",
    "        tensor = np.stack(signal_tensors, axis=0)\n",
    "\n",
    "        return tensor\n",
    "    \n",
    "    @staticmethod\n",
    "    def AdjMatrix(df_electrodes_coordinates):\n",
    "        np_coordinates = np.array(df_electrodes_coordinates)\n",
    "        _, b = np_coordinates.shape\n",
    "        lst = []\n",
    "        for i in range(b):\n",
    "            f = np_coordinates[:,i]\n",
    "            d = f.reshape(-1,1)-f.reshape(1,-1)\n",
    "            d_square = d**(2)\n",
    "            lst.append(d_square)\n",
    "        tensor = np.stack(lst, axis=0)\n",
    "        tensor_dist_sq = tensor.sum(axis=0)\n",
    "        tensor_dist = tensor_dist_sq**(1/2)\n",
    "        max, min = tensor_dist.min(), tensor_dist.max()\n",
    "        tensor_dist_norm = (tensor_dist-min)/(max-min)\n",
    "        tensor_dist_norm = tensor_dist_norm if np.linalg.det(tensor_dist_norm) else np.array([])\n",
    "        return tensor_dist_norm\n",
    "    \n",
    "    @staticmethod\n",
    "    def to_bdi_label(bdi):\n",
    "        bdi_label = None\n",
    "        if bdi < 7:\n",
    "            bdi_label = 0\n",
    "        if bdi >=17:\n",
    "            bdi_label = 1\n",
    "        if bdi >= 7 and bdi < 17:\n",
    "            bdi_label = 1/2\n",
    "        return bdi_label\n",
    "    \n",
    "    @staticmethod\n",
    "    def to_h5(file_path, subject, signal_array, label, frequency):\n",
    "        with h5py.File(file_path, \"w\") as hf:\n",
    "                hf.create_dataset(\"subject\", data=subject)\n",
    "                hf.create_dataset(\"resampled_signal\", data=signal_array)\n",
    "                hf.create_dataset(\"resample_freq\", data=frequency)\n",
    "                hf.create_dataset(\"label\", data=label)\n",
    "        return\n",
    "    \n",
    "    @staticmethod\n",
    "    def signal_processing_iterator(data_lst, sample_freq, band_freq_range, downsample_freq, slice_size, sub_slice_size):\n",
    "        correct_data_lst = []\n",
    "        error_data_lst = []\n",
    "        for subject_id, signal_np, df_coordinates, bdi in data_lst:\n",
    "            signal_processed = SignalProcessing.signal_processing(signal_np, sample_freq, band_freq_range, downsample_freq, slice_size, sub_slice_size)\n",
    "            Adj_dist_matrix = SignalProcessing.AdjMatrix(df_coordinates)\n",
    "            bdi_label = SignalProcessing.to_bdi_label(bdi)\n",
    "            if bdi_label in [0, 1] and Adj_dist_matrix.size:\n",
    "                correct_data_lst.append((subject_id, signal_processed, Adj_dist_matrix, bdi, bdi_label))\n",
    "            else:\n",
    "                error_data_lst.append((subject_id, signal_processed, Adj_dist_matrix, bdi, bdi_label))\n",
    "            \n",
    "        return correct_data_lst, error_data_lst"
   ]
  },
  {
   "cell_type": "code",
   "execution_count": 6,
   "metadata": {},
   "outputs": [],
   "source": [
    "class TrainingData():\n",
    "\n",
    "    @staticmethod\n",
    "    def signal_to_trainingData(signal_tuple):\n",
    "        ls = []\n",
    "        subject_id, signal_processed, Adj_dist_matrix, bdi, bdi_label = signal_tuple\n",
    "        for signal_slice in signal_processed:\n",
    "            ls.append((signal_slice, Adj_dist_matrix, bdi_label))\n",
    "        return ls\n",
    "    \n",
    "    def trainingData_iterator(signal_tuples):\n",
    "        ls = []\n",
    "        for signal_tuple in signal_tuples:\n",
    "            ls = ls+TrainingData.signal_to_trainingData(signal_tuple)\n",
    "        return ls"
   ]
  },
  {
   "cell_type": "code",
   "execution_count": 7,
   "metadata": {},
   "outputs": [],
   "source": [
    "root_path =  'D:/Workspace/DepressionDetection_FreeThesis/Local_Development_Branch/'\n",
    "file_path_openneuro = 'openneuro_Data/'"
   ]
  },
  {
   "cell_type": "code",
   "execution_count": 8,
   "metadata": {},
   "outputs": [
    {
     "name": "stdout",
     "output_type": "stream",
     "text": [
      "<<<<<<<Processing D:/Workspace/DepressionDetection_FreeThesis/Local_Development_Branch/openneuro_Data/sub-001\\eeg>>>>>>>\n",
      "Reading D:\\Workspace\\DepressionDetection_FreeThesis\\Local_Development_Branch\\openneuro_Data\\sub-001\\eeg\\sub-001_task-Rest_run-01_eeg.fdt\n",
      "Reading D:\\Workspace\\DepressionDetection_FreeThesis\\Local_Development_Branch\\openneuro_Data\\sub-001\\eeg\\sub-001_task-Rest_run-02_eeg.fdt\n",
      "<<<<<<<Processing D:/Workspace/DepressionDetection_FreeThesis/Local_Development_Branch/openneuro_Data/sub-002\\eeg>>>>>>>\n",
      "Reading D:\\Workspace\\DepressionDetection_FreeThesis\\Local_Development_Branch\\openneuro_Data\\sub-002\\eeg\\sub-002_task-Rest_run-01_eeg.fdt\n",
      "Reading D:\\Workspace\\DepressionDetection_FreeThesis\\Local_Development_Branch\\openneuro_Data\\sub-002\\eeg\\sub-002_task-Rest_run-02_eeg.fdt\n"
     ]
    },
    {
     "name": "stderr",
     "output_type": "stream",
     "text": [
      "D:\\tmp\\ipykernel_7984\\289501458.py:80: RuntimeWarning: The data contains 'boundary' events, indicating data discontinuities. Be cautious of filtering and epoching around these events.\n",
      "  mne_obj = mne.io.read_raw_eeglab(mne_file)\n"
     ]
    },
    {
     "name": "stdout",
     "output_type": "stream",
     "text": [
      "<<<<<<<Processing D:/Workspace/DepressionDetection_FreeThesis/Local_Development_Branch/openneuro_Data/sub-003\\eeg>>>>>>>\n",
      "Reading D:\\Workspace\\DepressionDetection_FreeThesis\\Local_Development_Branch\\openneuro_Data\\sub-003\\eeg\\sub-003_task-Rest_run-01_eeg.fdt\n"
     ]
    },
    {
     "name": "stderr",
     "output_type": "stream",
     "text": [
      "D:\\tmp\\ipykernel_7984\\289501458.py:80: RuntimeWarning: The data contains 'boundary' events, indicating data discontinuities. Be cautious of filtering and epoching around these events.\n",
      "  mne_obj = mne.io.read_raw_eeglab(mne_file)\n"
     ]
    },
    {
     "name": "stdout",
     "output_type": "stream",
     "text": [
      "Reading D:\\Workspace\\DepressionDetection_FreeThesis\\Local_Development_Branch\\openneuro_Data\\sub-003\\eeg\\sub-003_task-Rest_run-02_eeg.fdt\n"
     ]
    },
    {
     "name": "stderr",
     "output_type": "stream",
     "text": [
      "D:\\tmp\\ipykernel_7984\\289501458.py:80: RuntimeWarning: The data contains 'boundary' events, indicating data discontinuities. Be cautious of filtering and epoching around these events.\n",
      "  mne_obj = mne.io.read_raw_eeglab(mne_file)\n"
     ]
    },
    {
     "name": "stdout",
     "output_type": "stream",
     "text": [
      "<<<<<<<Processing D:/Workspace/DepressionDetection_FreeThesis/Local_Development_Branch/openneuro_Data/sub-004\\eeg>>>>>>>\n",
      "Reading D:\\Workspace\\DepressionDetection_FreeThesis\\Local_Development_Branch\\openneuro_Data\\sub-004\\eeg\\sub-004_task-Rest_run-01_eeg.fdt\n",
      "Reading D:\\Workspace\\DepressionDetection_FreeThesis\\Local_Development_Branch\\openneuro_Data\\sub-004\\eeg\\sub-004_task-Rest_run-02_eeg.fdt\n"
     ]
    },
    {
     "name": "stderr",
     "output_type": "stream",
     "text": [
      "D:\\tmp\\ipykernel_7984\\289501458.py:80: RuntimeWarning: The data contains 'boundary' events, indicating data discontinuities. Be cautious of filtering and epoching around these events.\n",
      "  mne_obj = mne.io.read_raw_eeglab(mne_file)\n"
     ]
    },
    {
     "name": "stdout",
     "output_type": "stream",
     "text": [
      "<<<<<<<Processing D:/Workspace/DepressionDetection_FreeThesis/Local_Development_Branch/openneuro_Data/sub-005\\eeg>>>>>>>\n",
      "Reading D:\\Workspace\\DepressionDetection_FreeThesis\\Local_Development_Branch\\openneuro_Data\\sub-005\\eeg\\sub-005_task-Rest_run-01_eeg.fdt\n",
      "Reading D:\\Workspace\\DepressionDetection_FreeThesis\\Local_Development_Branch\\openneuro_Data\\sub-005\\eeg\\sub-005_task-Rest_run-02_eeg.fdt\n",
      "<<<<<<<Processing D:/Workspace/DepressionDetection_FreeThesis/Local_Development_Branch/openneuro_Data/sub-006\\eeg>>>>>>>\n",
      "Reading D:\\Workspace\\DepressionDetection_FreeThesis\\Local_Development_Branch\\openneuro_Data\\sub-006\\eeg\\sub-006_task-Rest_run-01_eeg.fdt\n",
      "Reading D:\\Workspace\\DepressionDetection_FreeThesis\\Local_Development_Branch\\openneuro_Data\\sub-006\\eeg\\sub-006_task-Rest_run-02_eeg.fdt\n"
     ]
    },
    {
     "name": "stderr",
     "output_type": "stream",
     "text": [
      "D:\\tmp\\ipykernel_7984\\289501458.py:80: RuntimeWarning: The data contains 'boundary' events, indicating data discontinuities. Be cautious of filtering and epoching around these events.\n",
      "  mne_obj = mne.io.read_raw_eeglab(mne_file)\n"
     ]
    },
    {
     "name": "stdout",
     "output_type": "stream",
     "text": [
      "<<<<<<<Processing D:/Workspace/DepressionDetection_FreeThesis/Local_Development_Branch/openneuro_Data/sub-007\\eeg>>>>>>>\n",
      "Reading D:\\Workspace\\DepressionDetection_FreeThesis\\Local_Development_Branch\\openneuro_Data\\sub-007\\eeg\\sub-007_task-Rest_run-01_eeg.fdt\n",
      "Reading D:\\Workspace\\DepressionDetection_FreeThesis\\Local_Development_Branch\\openneuro_Data\\sub-007\\eeg\\sub-007_task-Rest_run-02_eeg.fdt\n",
      "<<<<<<<Processing D:/Workspace/DepressionDetection_FreeThesis/Local_Development_Branch/openneuro_Data/sub-008\\eeg>>>>>>>\n",
      "Reading D:\\Workspace\\DepressionDetection_FreeThesis\\Local_Development_Branch\\openneuro_Data\\sub-008\\eeg\\sub-008_task-Rest_run-01_eeg.fdt\n",
      "Reading D:\\Workspace\\DepressionDetection_FreeThesis\\Local_Development_Branch\\openneuro_Data\\sub-008\\eeg\\sub-008_task-Rest_run-02_eeg.fdt\n"
     ]
    },
    {
     "name": "stderr",
     "output_type": "stream",
     "text": [
      "D:\\tmp\\ipykernel_7984\\289501458.py:80: RuntimeWarning: The data contains 'boundary' events, indicating data discontinuities. Be cautious of filtering and epoching around these events.\n",
      "  mne_obj = mne.io.read_raw_eeglab(mne_file)\n"
     ]
    },
    {
     "name": "stdout",
     "output_type": "stream",
     "text": [
      "<<<<<<<Processing D:/Workspace/DepressionDetection_FreeThesis/Local_Development_Branch/openneuro_Data/sub-009\\eeg>>>>>>>\n",
      "Reading D:\\Workspace\\DepressionDetection_FreeThesis\\Local_Development_Branch\\openneuro_Data\\sub-009\\eeg\\sub-009_task-Rest_run-01_eeg.fdt\n",
      "Reading D:\\Workspace\\DepressionDetection_FreeThesis\\Local_Development_Branch\\openneuro_Data\\sub-009\\eeg\\sub-009_task-Rest_run-02_eeg.fdt\n",
      "<<<<<<<Processing D:/Workspace/DepressionDetection_FreeThesis/Local_Development_Branch/openneuro_Data/sub-010\\eeg>>>>>>>\n",
      "Reading D:\\Workspace\\DepressionDetection_FreeThesis\\Local_Development_Branch\\openneuro_Data\\sub-010\\eeg\\sub-010_task-Rest_run-01_eeg.fdt\n",
      "<<<<<<<Processing D:/Workspace/DepressionDetection_FreeThesis/Local_Development_Branch/openneuro_Data/sub-011\\eeg>>>>>>>\n",
      "Reading D:\\Workspace\\DepressionDetection_FreeThesis\\Local_Development_Branch\\openneuro_Data\\sub-011\\eeg\\sub-011_task-Rest_run-01_eeg.fdt\n",
      "Reading D:\\Workspace\\DepressionDetection_FreeThesis\\Local_Development_Branch\\openneuro_Data\\sub-011\\eeg\\sub-011_task-Rest_run-02_eeg.fdt\n"
     ]
    },
    {
     "name": "stderr",
     "output_type": "stream",
     "text": [
      "D:\\tmp\\ipykernel_7984\\289501458.py:80: RuntimeWarning: The data contains 'boundary' events, indicating data discontinuities. Be cautious of filtering and epoching around these events.\n",
      "  mne_obj = mne.io.read_raw_eeglab(mne_file)\n"
     ]
    },
    {
     "name": "stdout",
     "output_type": "stream",
     "text": [
      "<<<<<<<Processing D:/Workspace/DepressionDetection_FreeThesis/Local_Development_Branch/openneuro_Data/sub-012\\eeg>>>>>>>\n",
      "Reading D:\\Workspace\\DepressionDetection_FreeThesis\\Local_Development_Branch\\openneuro_Data\\sub-012\\eeg\\sub-012_task-Rest_run-01_eeg.fdt\n",
      "Reading D:\\Workspace\\DepressionDetection_FreeThesis\\Local_Development_Branch\\openneuro_Data\\sub-012\\eeg\\sub-012_task-Rest_run-02_eeg.fdt\n"
     ]
    },
    {
     "name": "stderr",
     "output_type": "stream",
     "text": [
      "D:\\tmp\\ipykernel_7984\\289501458.py:80: RuntimeWarning: The data contains 'boundary' events, indicating data discontinuities. Be cautious of filtering and epoching around these events.\n",
      "  mne_obj = mne.io.read_raw_eeglab(mne_file)\n"
     ]
    },
    {
     "name": "stdout",
     "output_type": "stream",
     "text": [
      "<<<<<<<Processing D:/Workspace/DepressionDetection_FreeThesis/Local_Development_Branch/openneuro_Data/sub-013\\eeg>>>>>>>\n",
      "Reading D:\\Workspace\\DepressionDetection_FreeThesis\\Local_Development_Branch\\openneuro_Data\\sub-013\\eeg\\sub-013_task-Rest_run-01_eeg.fdt\n",
      "Reading D:\\Workspace\\DepressionDetection_FreeThesis\\Local_Development_Branch\\openneuro_Data\\sub-013\\eeg\\sub-013_task-Rest_run-02_eeg.fdt\n",
      "<<<<<<<Processing D:/Workspace/DepressionDetection_FreeThesis/Local_Development_Branch/openneuro_Data/sub-014\\eeg>>>>>>>\n",
      "Reading D:\\Workspace\\DepressionDetection_FreeThesis\\Local_Development_Branch\\openneuro_Data\\sub-014\\eeg\\sub-014_task-Rest_run-01_eeg.fdt\n"
     ]
    },
    {
     "name": "stderr",
     "output_type": "stream",
     "text": [
      "D:\\tmp\\ipykernel_7984\\289501458.py:80: RuntimeWarning: The data contains 'boundary' events, indicating data discontinuities. Be cautious of filtering and epoching around these events.\n",
      "  mne_obj = mne.io.read_raw_eeglab(mne_file)\n"
     ]
    },
    {
     "name": "stdout",
     "output_type": "stream",
     "text": [
      "Reading D:\\Workspace\\DepressionDetection_FreeThesis\\Local_Development_Branch\\openneuro_Data\\sub-014\\eeg\\sub-014_task-Rest_run-02_eeg.fdt\n",
      "<<<<<<<Processing D:/Workspace/DepressionDetection_FreeThesis/Local_Development_Branch/openneuro_Data/sub-015\\eeg>>>>>>>\n",
      "Reading D:\\Workspace\\DepressionDetection_FreeThesis\\Local_Development_Branch\\openneuro_Data\\sub-015\\eeg\\sub-015_task-Rest_run-01_eeg.fdt\n",
      "Reading D:\\Workspace\\DepressionDetection_FreeThesis\\Local_Development_Branch\\openneuro_Data\\sub-015\\eeg\\sub-015_task-Rest_run-02_eeg.fdt\n",
      "<<<<<<<Processing D:/Workspace/DepressionDetection_FreeThesis/Local_Development_Branch/openneuro_Data/sub-016\\eeg>>>>>>>\n",
      "Reading D:\\Workspace\\DepressionDetection_FreeThesis\\Local_Development_Branch\\openneuro_Data\\sub-016\\eeg\\sub-016_task-Rest_run-01_eeg.fdt\n"
     ]
    },
    {
     "name": "stderr",
     "output_type": "stream",
     "text": [
      "D:\\tmp\\ipykernel_7984\\289501458.py:80: RuntimeWarning: The data contains 'boundary' events, indicating data discontinuities. Be cautious of filtering and epoching around these events.\n",
      "  mne_obj = mne.io.read_raw_eeglab(mne_file)\n"
     ]
    },
    {
     "name": "stdout",
     "output_type": "stream",
     "text": [
      "Reading D:\\Workspace\\DepressionDetection_FreeThesis\\Local_Development_Branch\\openneuro_Data\\sub-016\\eeg\\sub-016_task-Rest_run-02_eeg.fdt\n",
      "<<<<<<<Processing D:/Workspace/DepressionDetection_FreeThesis/Local_Development_Branch/openneuro_Data/sub-017\\eeg>>>>>>>\n",
      "Reading D:\\Workspace\\DepressionDetection_FreeThesis\\Local_Development_Branch\\openneuro_Data\\sub-017\\eeg\\sub-017_task-Rest_run-01_eeg.fdt\n"
     ]
    },
    {
     "name": "stderr",
     "output_type": "stream",
     "text": [
      "D:\\tmp\\ipykernel_7984\\289501458.py:80: RuntimeWarning: The data contains 'boundary' events, indicating data discontinuities. Be cautious of filtering and epoching around these events.\n",
      "  mne_obj = mne.io.read_raw_eeglab(mne_file)\n"
     ]
    },
    {
     "name": "stdout",
     "output_type": "stream",
     "text": [
      "Reading D:\\Workspace\\DepressionDetection_FreeThesis\\Local_Development_Branch\\openneuro_Data\\sub-017\\eeg\\sub-017_task-Rest_run-02_eeg.fdt\n"
     ]
    },
    {
     "name": "stderr",
     "output_type": "stream",
     "text": [
      "D:\\tmp\\ipykernel_7984\\289501458.py:80: RuntimeWarning: The data contains 'boundary' events, indicating data discontinuities. Be cautious of filtering and epoching around these events.\n",
      "  mne_obj = mne.io.read_raw_eeglab(mne_file)\n"
     ]
    },
    {
     "name": "stdout",
     "output_type": "stream",
     "text": [
      "<<<<<<<Processing D:/Workspace/DepressionDetection_FreeThesis/Local_Development_Branch/openneuro_Data/sub-018\\eeg>>>>>>>\n",
      "Reading D:\\Workspace\\DepressionDetection_FreeThesis\\Local_Development_Branch\\openneuro_Data\\sub-018\\eeg\\sub-018_task-Rest_run-01_eeg.fdt\n",
      "Reading D:\\Workspace\\DepressionDetection_FreeThesis\\Local_Development_Branch\\openneuro_Data\\sub-018\\eeg\\sub-018_task-Rest_run-02_eeg.fdt\n",
      "<<<<<<<Processing D:/Workspace/DepressionDetection_FreeThesis/Local_Development_Branch/openneuro_Data/sub-019\\eeg>>>>>>>\n",
      "Reading D:\\Workspace\\DepressionDetection_FreeThesis\\Local_Development_Branch\\openneuro_Data\\sub-019\\eeg\\sub-019_task-Rest_run-01_eeg.fdt\n"
     ]
    },
    {
     "name": "stderr",
     "output_type": "stream",
     "text": [
      "D:\\tmp\\ipykernel_7984\\289501458.py:80: RuntimeWarning: The data contains 'boundary' events, indicating data discontinuities. Be cautious of filtering and epoching around these events.\n",
      "  mne_obj = mne.io.read_raw_eeglab(mne_file)\n"
     ]
    },
    {
     "name": "stdout",
     "output_type": "stream",
     "text": [
      "Reading D:\\Workspace\\DepressionDetection_FreeThesis\\Local_Development_Branch\\openneuro_Data\\sub-019\\eeg\\sub-019_task-Rest_run-02_eeg.fdt\n"
     ]
    },
    {
     "name": "stderr",
     "output_type": "stream",
     "text": [
      "D:\\tmp\\ipykernel_7984\\289501458.py:80: RuntimeWarning: The data contains 'boundary' events, indicating data discontinuities. Be cautious of filtering and epoching around these events.\n",
      "  mne_obj = mne.io.read_raw_eeglab(mne_file)\n"
     ]
    },
    {
     "name": "stdout",
     "output_type": "stream",
     "text": [
      "<<<<<<<Processing D:/Workspace/DepressionDetection_FreeThesis/Local_Development_Branch/openneuro_Data/sub-020\\eeg>>>>>>>\n",
      "Reading D:\\Workspace\\DepressionDetection_FreeThesis\\Local_Development_Branch\\openneuro_Data\\sub-020\\eeg\\sub-020_task-Rest_run-01_eeg.fdt\n",
      "Reading D:\\Workspace\\DepressionDetection_FreeThesis\\Local_Development_Branch\\openneuro_Data\\sub-020\\eeg\\sub-020_task-Rest_run-02_eeg.fdt\n"
     ]
    },
    {
     "name": "stderr",
     "output_type": "stream",
     "text": [
      "D:\\tmp\\ipykernel_7984\\289501458.py:80: RuntimeWarning: The data contains 'boundary' events, indicating data discontinuities. Be cautious of filtering and epoching around these events.\n",
      "  mne_obj = mne.io.read_raw_eeglab(mne_file)\n"
     ]
    },
    {
     "name": "stdout",
     "output_type": "stream",
     "text": [
      "<<<<<<<Processing D:/Workspace/DepressionDetection_FreeThesis/Local_Development_Branch/openneuro_Data/sub-021\\eeg>>>>>>>\n",
      "Reading D:\\Workspace\\DepressionDetection_FreeThesis\\Local_Development_Branch\\openneuro_Data\\sub-021\\eeg\\sub-021_task-Rest_run-01_eeg.fdt\n"
     ]
    },
    {
     "name": "stderr",
     "output_type": "stream",
     "text": [
      "D:\\tmp\\ipykernel_7984\\289501458.py:80: RuntimeWarning: The data contains 'boundary' events, indicating data discontinuities. Be cautious of filtering and epoching around these events.\n",
      "  mne_obj = mne.io.read_raw_eeglab(mne_file)\n"
     ]
    },
    {
     "name": "stdout",
     "output_type": "stream",
     "text": [
      "Reading D:\\Workspace\\DepressionDetection_FreeThesis\\Local_Development_Branch\\openneuro_Data\\sub-021\\eeg\\sub-021_task-Rest_run-02_eeg.fdt\n"
     ]
    },
    {
     "name": "stderr",
     "output_type": "stream",
     "text": [
      "D:\\tmp\\ipykernel_7984\\289501458.py:80: RuntimeWarning: The data contains 'boundary' events, indicating data discontinuities. Be cautious of filtering and epoching around these events.\n",
      "  mne_obj = mne.io.read_raw_eeglab(mne_file)\n"
     ]
    },
    {
     "name": "stdout",
     "output_type": "stream",
     "text": [
      "<<<<<<<Processing D:/Workspace/DepressionDetection_FreeThesis/Local_Development_Branch/openneuro_Data/sub-022\\eeg>>>>>>>\n",
      "Reading D:\\Workspace\\DepressionDetection_FreeThesis\\Local_Development_Branch\\openneuro_Data\\sub-022\\eeg\\sub-022_task-Rest_run-01_eeg.fdt\n"
     ]
    },
    {
     "name": "stderr",
     "output_type": "stream",
     "text": [
      "D:\\tmp\\ipykernel_7984\\289501458.py:80: RuntimeWarning: The data contains 'boundary' events, indicating data discontinuities. Be cautious of filtering and epoching around these events.\n",
      "  mne_obj = mne.io.read_raw_eeglab(mne_file)\n"
     ]
    },
    {
     "name": "stdout",
     "output_type": "stream",
     "text": [
      "Reading D:\\Workspace\\DepressionDetection_FreeThesis\\Local_Development_Branch\\openneuro_Data\\sub-022\\eeg\\sub-022_task-Rest_run-02_eeg.fdt\n"
     ]
    },
    {
     "name": "stderr",
     "output_type": "stream",
     "text": [
      "D:\\tmp\\ipykernel_7984\\289501458.py:80: RuntimeWarning: The data contains 'boundary' events, indicating data discontinuities. Be cautious of filtering and epoching around these events.\n",
      "  mne_obj = mne.io.read_raw_eeglab(mne_file)\n"
     ]
    },
    {
     "name": "stdout",
     "output_type": "stream",
     "text": [
      "<<<<<<<Processing D:/Workspace/DepressionDetection_FreeThesis/Local_Development_Branch/openneuro_Data/sub-023\\eeg>>>>>>>\n",
      "Reading D:\\Workspace\\DepressionDetection_FreeThesis\\Local_Development_Branch\\openneuro_Data\\sub-023\\eeg\\sub-023_task-Rest_run-01_eeg.fdt\n"
     ]
    },
    {
     "name": "stderr",
     "output_type": "stream",
     "text": [
      "D:\\tmp\\ipykernel_7984\\289501458.py:80: RuntimeWarning: The data contains 'boundary' events, indicating data discontinuities. Be cautious of filtering and epoching around these events.\n",
      "  mne_obj = mne.io.read_raw_eeglab(mne_file)\n"
     ]
    },
    {
     "name": "stdout",
     "output_type": "stream",
     "text": [
      "Reading D:\\Workspace\\DepressionDetection_FreeThesis\\Local_Development_Branch\\openneuro_Data\\sub-023\\eeg\\sub-023_task-Rest_run-02_eeg.fdt\n"
     ]
    },
    {
     "name": "stderr",
     "output_type": "stream",
     "text": [
      "D:\\tmp\\ipykernel_7984\\289501458.py:80: RuntimeWarning: The data contains 'boundary' events, indicating data discontinuities. Be cautious of filtering and epoching around these events.\n",
      "  mne_obj = mne.io.read_raw_eeglab(mne_file)\n"
     ]
    },
    {
     "name": "stdout",
     "output_type": "stream",
     "text": [
      "<<<<<<<Processing D:/Workspace/DepressionDetection_FreeThesis/Local_Development_Branch/openneuro_Data/sub-024\\eeg>>>>>>>\n",
      "Reading D:\\Workspace\\DepressionDetection_FreeThesis\\Local_Development_Branch\\openneuro_Data\\sub-024\\eeg\\sub-024_task-Rest_run-01_eeg.fdt\n"
     ]
    },
    {
     "name": "stderr",
     "output_type": "stream",
     "text": [
      "D:\\tmp\\ipykernel_7984\\289501458.py:80: RuntimeWarning: The data contains 'boundary' events, indicating data discontinuities. Be cautious of filtering and epoching around these events.\n",
      "  mne_obj = mne.io.read_raw_eeglab(mne_file)\n"
     ]
    },
    {
     "name": "stdout",
     "output_type": "stream",
     "text": [
      "Reading D:\\Workspace\\DepressionDetection_FreeThesis\\Local_Development_Branch\\openneuro_Data\\sub-024\\eeg\\sub-024_task-Rest_run-02_eeg.fdt\n"
     ]
    },
    {
     "name": "stderr",
     "output_type": "stream",
     "text": [
      "D:\\tmp\\ipykernel_7984\\289501458.py:80: RuntimeWarning: The data contains 'boundary' events, indicating data discontinuities. Be cautious of filtering and epoching around these events.\n",
      "  mne_obj = mne.io.read_raw_eeglab(mne_file)\n"
     ]
    },
    {
     "name": "stdout",
     "output_type": "stream",
     "text": [
      "<<<<<<<Processing D:/Workspace/DepressionDetection_FreeThesis/Local_Development_Branch/openneuro_Data/sub-025\\eeg>>>>>>>\n",
      "Reading D:\\Workspace\\DepressionDetection_FreeThesis\\Local_Development_Branch\\openneuro_Data\\sub-025\\eeg\\sub-025_task-Rest_run-01_eeg.fdt\n",
      "Reading D:\\Workspace\\DepressionDetection_FreeThesis\\Local_Development_Branch\\openneuro_Data\\sub-025\\eeg\\sub-025_task-Rest_run-02_eeg.fdt\n"
     ]
    },
    {
     "name": "stderr",
     "output_type": "stream",
     "text": [
      "D:\\tmp\\ipykernel_7984\\289501458.py:80: RuntimeWarning: The data contains 'boundary' events, indicating data discontinuities. Be cautious of filtering and epoching around these events.\n",
      "  mne_obj = mne.io.read_raw_eeglab(mne_file)\n"
     ]
    },
    {
     "name": "stdout",
     "output_type": "stream",
     "text": [
      "<<<<<<<Processing D:/Workspace/DepressionDetection_FreeThesis/Local_Development_Branch/openneuro_Data/sub-026\\eeg>>>>>>>\n",
      "Reading D:\\Workspace\\DepressionDetection_FreeThesis\\Local_Development_Branch\\openneuro_Data\\sub-026\\eeg\\sub-026_task-Rest_run-01_eeg.fdt\n"
     ]
    },
    {
     "name": "stderr",
     "output_type": "stream",
     "text": [
      "D:\\tmp\\ipykernel_7984\\289501458.py:80: RuntimeWarning: The data contains 'boundary' events, indicating data discontinuities. Be cautious of filtering and epoching around these events.\n",
      "  mne_obj = mne.io.read_raw_eeglab(mne_file)\n"
     ]
    },
    {
     "name": "stdout",
     "output_type": "stream",
     "text": [
      "Reading D:\\Workspace\\DepressionDetection_FreeThesis\\Local_Development_Branch\\openneuro_Data\\sub-026\\eeg\\sub-026_task-Rest_run-02_eeg.fdt\n"
     ]
    },
    {
     "name": "stderr",
     "output_type": "stream",
     "text": [
      "D:\\tmp\\ipykernel_7984\\289501458.py:80: RuntimeWarning: The data contains 'boundary' events, indicating data discontinuities. Be cautious of filtering and epoching around these events.\n",
      "  mne_obj = mne.io.read_raw_eeglab(mne_file)\n"
     ]
    },
    {
     "name": "stdout",
     "output_type": "stream",
     "text": [
      "<<<<<<<Processing D:/Workspace/DepressionDetection_FreeThesis/Local_Development_Branch/openneuro_Data/sub-027\\eeg>>>>>>>\n",
      "Reading D:\\Workspace\\DepressionDetection_FreeThesis\\Local_Development_Branch\\openneuro_Data\\sub-027\\eeg\\sub-027_task-Rest_run-01_eeg.fdt\n"
     ]
    },
    {
     "name": "stderr",
     "output_type": "stream",
     "text": [
      "D:\\tmp\\ipykernel_7984\\289501458.py:80: RuntimeWarning: The data contains 'boundary' events, indicating data discontinuities. Be cautious of filtering and epoching around these events.\n",
      "  mne_obj = mne.io.read_raw_eeglab(mne_file)\n"
     ]
    },
    {
     "name": "stdout",
     "output_type": "stream",
     "text": [
      "Reading D:\\Workspace\\DepressionDetection_FreeThesis\\Local_Development_Branch\\openneuro_Data\\sub-027\\eeg\\sub-027_task-Rest_run-02_eeg.fdt\n"
     ]
    },
    {
     "name": "stderr",
     "output_type": "stream",
     "text": [
      "D:\\tmp\\ipykernel_7984\\289501458.py:80: RuntimeWarning: The data contains 'boundary' events, indicating data discontinuities. Be cautious of filtering and epoching around these events.\n",
      "  mne_obj = mne.io.read_raw_eeglab(mne_file)\n"
     ]
    },
    {
     "name": "stdout",
     "output_type": "stream",
     "text": [
      "<<<<<<<Processing D:/Workspace/DepressionDetection_FreeThesis/Local_Development_Branch/openneuro_Data/sub-028\\eeg>>>>>>>\n",
      "Reading D:\\Workspace\\DepressionDetection_FreeThesis\\Local_Development_Branch\\openneuro_Data\\sub-028\\eeg\\sub-028_task-Rest_run-01_eeg.fdt\n"
     ]
    },
    {
     "name": "stderr",
     "output_type": "stream",
     "text": [
      "D:\\tmp\\ipykernel_7984\\289501458.py:80: RuntimeWarning: The data contains 'boundary' events, indicating data discontinuities. Be cautious of filtering and epoching around these events.\n",
      "  mne_obj = mne.io.read_raw_eeglab(mne_file)\n"
     ]
    },
    {
     "name": "stdout",
     "output_type": "stream",
     "text": [
      "Reading D:\\Workspace\\DepressionDetection_FreeThesis\\Local_Development_Branch\\openneuro_Data\\sub-028\\eeg\\sub-028_task-Rest_run-02_eeg.fdt\n"
     ]
    },
    {
     "name": "stderr",
     "output_type": "stream",
     "text": [
      "D:\\tmp\\ipykernel_7984\\289501458.py:80: RuntimeWarning: The data contains 'boundary' events, indicating data discontinuities. Be cautious of filtering and epoching around these events.\n",
      "  mne_obj = mne.io.read_raw_eeglab(mne_file)\n"
     ]
    },
    {
     "name": "stdout",
     "output_type": "stream",
     "text": [
      "<<<<<<<Processing D:/Workspace/DepressionDetection_FreeThesis/Local_Development_Branch/openneuro_Data/sub-029\\eeg>>>>>>>\n",
      "Reading D:\\Workspace\\DepressionDetection_FreeThesis\\Local_Development_Branch\\openneuro_Data\\sub-029\\eeg\\sub-029_task-Rest_run-01_eeg.fdt\n"
     ]
    },
    {
     "name": "stderr",
     "output_type": "stream",
     "text": [
      "D:\\tmp\\ipykernel_7984\\289501458.py:80: RuntimeWarning: The data contains 'boundary' events, indicating data discontinuities. Be cautious of filtering and epoching around these events.\n",
      "  mne_obj = mne.io.read_raw_eeglab(mne_file)\n"
     ]
    },
    {
     "name": "stdout",
     "output_type": "stream",
     "text": [
      "Reading D:\\Workspace\\DepressionDetection_FreeThesis\\Local_Development_Branch\\openneuro_Data\\sub-029\\eeg\\sub-029_task-Rest_run-02_eeg.fdt\n"
     ]
    },
    {
     "name": "stderr",
     "output_type": "stream",
     "text": [
      "D:\\tmp\\ipykernel_7984\\289501458.py:80: RuntimeWarning: The data contains 'boundary' events, indicating data discontinuities. Be cautious of filtering and epoching around these events.\n",
      "  mne_obj = mne.io.read_raw_eeglab(mne_file)\n"
     ]
    },
    {
     "name": "stdout",
     "output_type": "stream",
     "text": [
      "<<<<<<<Processing D:/Workspace/DepressionDetection_FreeThesis/Local_Development_Branch/openneuro_Data/sub-030\\eeg>>>>>>>\n",
      "Reading D:\\Workspace\\DepressionDetection_FreeThesis\\Local_Development_Branch\\openneuro_Data\\sub-030\\eeg\\sub-030_task-Rest_run-01_eeg.fdt\n",
      "Reading D:\\Workspace\\DepressionDetection_FreeThesis\\Local_Development_Branch\\openneuro_Data\\sub-030\\eeg\\sub-030_task-Rest_run-02_eeg.fdt\n",
      "<<<<<<<Processing D:/Workspace/DepressionDetection_FreeThesis/Local_Development_Branch/openneuro_Data/sub-031\\eeg>>>>>>>\n",
      "Reading D:\\Workspace\\DepressionDetection_FreeThesis\\Local_Development_Branch\\openneuro_Data\\sub-031\\eeg\\sub-031_task-Rest_run-01_eeg.fdt\n"
     ]
    },
    {
     "name": "stderr",
     "output_type": "stream",
     "text": [
      "D:\\tmp\\ipykernel_7984\\289501458.py:80: RuntimeWarning: The data contains 'boundary' events, indicating data discontinuities. Be cautious of filtering and epoching around these events.\n",
      "  mne_obj = mne.io.read_raw_eeglab(mne_file)\n"
     ]
    },
    {
     "name": "stdout",
     "output_type": "stream",
     "text": [
      "Reading D:\\Workspace\\DepressionDetection_FreeThesis\\Local_Development_Branch\\openneuro_Data\\sub-031\\eeg\\sub-031_task-Rest_run-02_eeg.fdt\n"
     ]
    },
    {
     "name": "stderr",
     "output_type": "stream",
     "text": [
      "D:\\tmp\\ipykernel_7984\\289501458.py:80: RuntimeWarning: The data contains 'boundary' events, indicating data discontinuities. Be cautious of filtering and epoching around these events.\n",
      "  mne_obj = mne.io.read_raw_eeglab(mne_file)\n"
     ]
    },
    {
     "name": "stdout",
     "output_type": "stream",
     "text": [
      "<<<<<<<Processing D:/Workspace/DepressionDetection_FreeThesis/Local_Development_Branch/openneuro_Data/sub-032\\eeg>>>>>>>\n",
      "Reading D:\\Workspace\\DepressionDetection_FreeThesis\\Local_Development_Branch\\openneuro_Data\\sub-032\\eeg\\sub-032_task-Rest_run-01_eeg.fdt\n"
     ]
    },
    {
     "name": "stderr",
     "output_type": "stream",
     "text": [
      "D:\\tmp\\ipykernel_7984\\289501458.py:80: RuntimeWarning: The data contains 'boundary' events, indicating data discontinuities. Be cautious of filtering and epoching around these events.\n",
      "  mne_obj = mne.io.read_raw_eeglab(mne_file)\n"
     ]
    },
    {
     "name": "stdout",
     "output_type": "stream",
     "text": [
      "Reading D:\\Workspace\\DepressionDetection_FreeThesis\\Local_Development_Branch\\openneuro_Data\\sub-032\\eeg\\sub-032_task-Rest_run-02_eeg.fdt\n"
     ]
    },
    {
     "name": "stderr",
     "output_type": "stream",
     "text": [
      "D:\\tmp\\ipykernel_7984\\289501458.py:80: RuntimeWarning: The data contains 'boundary' events, indicating data discontinuities. Be cautious of filtering and epoching around these events.\n",
      "  mne_obj = mne.io.read_raw_eeglab(mne_file)\n"
     ]
    },
    {
     "name": "stdout",
     "output_type": "stream",
     "text": [
      "<<<<<<<Processing D:/Workspace/DepressionDetection_FreeThesis/Local_Development_Branch/openneuro_Data/sub-033\\eeg>>>>>>>\n",
      "Reading D:\\Workspace\\DepressionDetection_FreeThesis\\Local_Development_Branch\\openneuro_Data\\sub-033\\eeg\\sub-033_task-Rest_run-01_eeg.fdt\n"
     ]
    },
    {
     "name": "stderr",
     "output_type": "stream",
     "text": [
      "D:\\tmp\\ipykernel_7984\\289501458.py:80: RuntimeWarning: The data contains 'boundary' events, indicating data discontinuities. Be cautious of filtering and epoching around these events.\n",
      "  mne_obj = mne.io.read_raw_eeglab(mne_file)\n"
     ]
    },
    {
     "name": "stdout",
     "output_type": "stream",
     "text": [
      "Reading D:\\Workspace\\DepressionDetection_FreeThesis\\Local_Development_Branch\\openneuro_Data\\sub-033\\eeg\\sub-033_task-Rest_run-02_eeg.fdt\n"
     ]
    },
    {
     "name": "stderr",
     "output_type": "stream",
     "text": [
      "D:\\tmp\\ipykernel_7984\\289501458.py:80: RuntimeWarning: The data contains 'boundary' events, indicating data discontinuities. Be cautious of filtering and epoching around these events.\n",
      "  mne_obj = mne.io.read_raw_eeglab(mne_file)\n"
     ]
    },
    {
     "name": "stdout",
     "output_type": "stream",
     "text": [
      "<<<<<<<Processing D:/Workspace/DepressionDetection_FreeThesis/Local_Development_Branch/openneuro_Data/sub-034\\eeg>>>>>>>\n",
      "Reading D:\\Workspace\\DepressionDetection_FreeThesis\\Local_Development_Branch\\openneuro_Data\\sub-034\\eeg\\sub-034_task-Rest_run-01_eeg.fdt\n"
     ]
    },
    {
     "name": "stderr",
     "output_type": "stream",
     "text": [
      "D:\\tmp\\ipykernel_7984\\289501458.py:80: RuntimeWarning: The data contains 'boundary' events, indicating data discontinuities. Be cautious of filtering and epoching around these events.\n",
      "  mne_obj = mne.io.read_raw_eeglab(mne_file)\n"
     ]
    },
    {
     "name": "stdout",
     "output_type": "stream",
     "text": [
      "Reading D:\\Workspace\\DepressionDetection_FreeThesis\\Local_Development_Branch\\openneuro_Data\\sub-034\\eeg\\sub-034_task-Rest_run-02_eeg.fdt\n"
     ]
    },
    {
     "name": "stderr",
     "output_type": "stream",
     "text": [
      "D:\\tmp\\ipykernel_7984\\289501458.py:80: RuntimeWarning: The data contains 'boundary' events, indicating data discontinuities. Be cautious of filtering and epoching around these events.\n",
      "  mne_obj = mne.io.read_raw_eeglab(mne_file)\n"
     ]
    },
    {
     "name": "stdout",
     "output_type": "stream",
     "text": [
      "<<<<<<<Processing D:/Workspace/DepressionDetection_FreeThesis/Local_Development_Branch/openneuro_Data/sub-035\\eeg>>>>>>>\n",
      "Reading D:\\Workspace\\DepressionDetection_FreeThesis\\Local_Development_Branch\\openneuro_Data\\sub-035\\eeg\\sub-035_task-Rest_run-01_eeg.fdt\n"
     ]
    },
    {
     "name": "stderr",
     "output_type": "stream",
     "text": [
      "D:\\tmp\\ipykernel_7984\\289501458.py:80: RuntimeWarning: The data contains 'boundary' events, indicating data discontinuities. Be cautious of filtering and epoching around these events.\n",
      "  mne_obj = mne.io.read_raw_eeglab(mne_file)\n"
     ]
    },
    {
     "name": "stdout",
     "output_type": "stream",
     "text": [
      "Reading D:\\Workspace\\DepressionDetection_FreeThesis\\Local_Development_Branch\\openneuro_Data\\sub-035\\eeg\\sub-035_task-Rest_run-02_eeg.fdt\n"
     ]
    },
    {
     "name": "stderr",
     "output_type": "stream",
     "text": [
      "D:\\tmp\\ipykernel_7984\\289501458.py:80: RuntimeWarning: The data contains 'boundary' events, indicating data discontinuities. Be cautious of filtering and epoching around these events.\n",
      "  mne_obj = mne.io.read_raw_eeglab(mne_file)\n"
     ]
    },
    {
     "name": "stdout",
     "output_type": "stream",
     "text": [
      "<<<<<<<Processing D:/Workspace/DepressionDetection_FreeThesis/Local_Development_Branch/openneuro_Data/sub-036\\eeg>>>>>>>\n",
      "Reading D:\\Workspace\\DepressionDetection_FreeThesis\\Local_Development_Branch\\openneuro_Data\\sub-036\\eeg\\sub-036_task-Rest_run-01_eeg.fdt\n"
     ]
    },
    {
     "name": "stderr",
     "output_type": "stream",
     "text": [
      "D:\\tmp\\ipykernel_7984\\289501458.py:80: RuntimeWarning: The data contains 'boundary' events, indicating data discontinuities. Be cautious of filtering and epoching around these events.\n",
      "  mne_obj = mne.io.read_raw_eeglab(mne_file)\n"
     ]
    },
    {
     "name": "stdout",
     "output_type": "stream",
     "text": [
      "Reading D:\\Workspace\\DepressionDetection_FreeThesis\\Local_Development_Branch\\openneuro_Data\\sub-036\\eeg\\sub-036_task-Rest_run-02_eeg.fdt\n"
     ]
    },
    {
     "name": "stderr",
     "output_type": "stream",
     "text": [
      "D:\\tmp\\ipykernel_7984\\289501458.py:80: RuntimeWarning: The data contains 'boundary' events, indicating data discontinuities. Be cautious of filtering and epoching around these events.\n",
      "  mne_obj = mne.io.read_raw_eeglab(mne_file)\n"
     ]
    },
    {
     "name": "stdout",
     "output_type": "stream",
     "text": [
      "<<<<<<<Processing D:/Workspace/DepressionDetection_FreeThesis/Local_Development_Branch/openneuro_Data/sub-037\\eeg>>>>>>>\n",
      "Reading D:\\Workspace\\DepressionDetection_FreeThesis\\Local_Development_Branch\\openneuro_Data\\sub-037\\eeg\\sub-037_task-Rest_run-01_eeg.fdt\n"
     ]
    },
    {
     "name": "stderr",
     "output_type": "stream",
     "text": [
      "D:\\tmp\\ipykernel_7984\\289501458.py:80: RuntimeWarning: The data contains 'boundary' events, indicating data discontinuities. Be cautious of filtering and epoching around these events.\n",
      "  mne_obj = mne.io.read_raw_eeglab(mne_file)\n"
     ]
    },
    {
     "name": "stdout",
     "output_type": "stream",
     "text": [
      "Reading D:\\Workspace\\DepressionDetection_FreeThesis\\Local_Development_Branch\\openneuro_Data\\sub-037\\eeg\\sub-037_task-Rest_run-02_eeg.fdt\n"
     ]
    },
    {
     "name": "stderr",
     "output_type": "stream",
     "text": [
      "D:\\tmp\\ipykernel_7984\\289501458.py:80: RuntimeWarning: The data contains 'boundary' events, indicating data discontinuities. Be cautious of filtering and epoching around these events.\n",
      "  mne_obj = mne.io.read_raw_eeglab(mne_file)\n"
     ]
    },
    {
     "name": "stdout",
     "output_type": "stream",
     "text": [
      "<<<<<<<Processing D:/Workspace/DepressionDetection_FreeThesis/Local_Development_Branch/openneuro_Data/sub-038\\eeg>>>>>>>\n",
      "Reading D:\\Workspace\\DepressionDetection_FreeThesis\\Local_Development_Branch\\openneuro_Data\\sub-038\\eeg\\sub-038_task-Rest_run-01_eeg.fdt\n"
     ]
    },
    {
     "name": "stderr",
     "output_type": "stream",
     "text": [
      "D:\\tmp\\ipykernel_7984\\289501458.py:80: RuntimeWarning: The data contains 'boundary' events, indicating data discontinuities. Be cautious of filtering and epoching around these events.\n",
      "  mne_obj = mne.io.read_raw_eeglab(mne_file)\n"
     ]
    },
    {
     "name": "stdout",
     "output_type": "stream",
     "text": [
      "Reading D:\\Workspace\\DepressionDetection_FreeThesis\\Local_Development_Branch\\openneuro_Data\\sub-038\\eeg\\sub-038_task-Rest_run-02_eeg.fdt\n"
     ]
    },
    {
     "name": "stderr",
     "output_type": "stream",
     "text": [
      "D:\\tmp\\ipykernel_7984\\289501458.py:80: RuntimeWarning: The data contains 'boundary' events, indicating data discontinuities. Be cautious of filtering and epoching around these events.\n",
      "  mne_obj = mne.io.read_raw_eeglab(mne_file)\n"
     ]
    },
    {
     "name": "stdout",
     "output_type": "stream",
     "text": [
      "<<<<<<<Processing D:/Workspace/DepressionDetection_FreeThesis/Local_Development_Branch/openneuro_Data/sub-039\\eeg>>>>>>>\n",
      "Reading D:\\Workspace\\DepressionDetection_FreeThesis\\Local_Development_Branch\\openneuro_Data\\sub-039\\eeg\\sub-039_task-Rest_run-01_eeg.fdt\n"
     ]
    },
    {
     "name": "stderr",
     "output_type": "stream",
     "text": [
      "D:\\tmp\\ipykernel_7984\\289501458.py:80: RuntimeWarning: The data contains 'boundary' events, indicating data discontinuities. Be cautious of filtering and epoching around these events.\n",
      "  mne_obj = mne.io.read_raw_eeglab(mne_file)\n"
     ]
    },
    {
     "name": "stdout",
     "output_type": "stream",
     "text": [
      "Reading D:\\Workspace\\DepressionDetection_FreeThesis\\Local_Development_Branch\\openneuro_Data\\sub-039\\eeg\\sub-039_task-Rest_run-02_eeg.fdt\n"
     ]
    },
    {
     "name": "stderr",
     "output_type": "stream",
     "text": [
      "D:\\tmp\\ipykernel_7984\\289501458.py:80: RuntimeWarning: The data contains 'boundary' events, indicating data discontinuities. Be cautious of filtering and epoching around these events.\n",
      "  mne_obj = mne.io.read_raw_eeglab(mne_file)\n"
     ]
    },
    {
     "name": "stdout",
     "output_type": "stream",
     "text": [
      "<<<<<<<Processing D:/Workspace/DepressionDetection_FreeThesis/Local_Development_Branch/openneuro_Data/sub-040\\eeg>>>>>>>\n",
      "Reading D:\\Workspace\\DepressionDetection_FreeThesis\\Local_Development_Branch\\openneuro_Data\\sub-040\\eeg\\sub-040_task-Rest_run-01_eeg.fdt\n",
      "Reading D:\\Workspace\\DepressionDetection_FreeThesis\\Local_Development_Branch\\openneuro_Data\\sub-040\\eeg\\sub-040_task-Rest_run-02_eeg.fdt\n"
     ]
    },
    {
     "name": "stderr",
     "output_type": "stream",
     "text": [
      "D:\\tmp\\ipykernel_7984\\289501458.py:80: RuntimeWarning: The data contains 'boundary' events, indicating data discontinuities. Be cautious of filtering and epoching around these events.\n",
      "  mne_obj = mne.io.read_raw_eeglab(mne_file)\n"
     ]
    },
    {
     "name": "stdout",
     "output_type": "stream",
     "text": [
      "<<<<<<<Processing D:/Workspace/DepressionDetection_FreeThesis/Local_Development_Branch/openneuro_Data/sub-041\\eeg>>>>>>>\n",
      "Reading D:\\Workspace\\DepressionDetection_FreeThesis\\Local_Development_Branch\\openneuro_Data\\sub-041\\eeg\\sub-041_task-Rest_run-01_eeg.fdt\n"
     ]
    },
    {
     "name": "stderr",
     "output_type": "stream",
     "text": [
      "D:\\tmp\\ipykernel_7984\\289501458.py:80: RuntimeWarning: The data contains 'boundary' events, indicating data discontinuities. Be cautious of filtering and epoching around these events.\n",
      "  mne_obj = mne.io.read_raw_eeglab(mne_file)\n"
     ]
    },
    {
     "name": "stdout",
     "output_type": "stream",
     "text": [
      "Reading D:\\Workspace\\DepressionDetection_FreeThesis\\Local_Development_Branch\\openneuro_Data\\sub-041\\eeg\\sub-041_task-Rest_run-02_eeg.fdt\n"
     ]
    },
    {
     "name": "stderr",
     "output_type": "stream",
     "text": [
      "D:\\tmp\\ipykernel_7984\\289501458.py:80: RuntimeWarning: The data contains 'boundary' events, indicating data discontinuities. Be cautious of filtering and epoching around these events.\n",
      "  mne_obj = mne.io.read_raw_eeglab(mne_file)\n"
     ]
    },
    {
     "name": "stdout",
     "output_type": "stream",
     "text": [
      "<<<<<<<Processing D:/Workspace/DepressionDetection_FreeThesis/Local_Development_Branch/openneuro_Data/sub-042\\eeg>>>>>>>\n",
      "Reading D:\\Workspace\\DepressionDetection_FreeThesis\\Local_Development_Branch\\openneuro_Data\\sub-042\\eeg\\sub-042_task-Rest_run-01_eeg.fdt\n",
      "Reading D:\\Workspace\\DepressionDetection_FreeThesis\\Local_Development_Branch\\openneuro_Data\\sub-042\\eeg\\sub-042_task-Rest_run-02_eeg.fdt\n"
     ]
    },
    {
     "name": "stderr",
     "output_type": "stream",
     "text": [
      "D:\\tmp\\ipykernel_7984\\289501458.py:80: RuntimeWarning: The data contains 'boundary' events, indicating data discontinuities. Be cautious of filtering and epoching around these events.\n",
      "  mne_obj = mne.io.read_raw_eeglab(mne_file)\n"
     ]
    },
    {
     "name": "stdout",
     "output_type": "stream",
     "text": [
      "<<<<<<<Processing D:/Workspace/DepressionDetection_FreeThesis/Local_Development_Branch/openneuro_Data/sub-043\\eeg>>>>>>>\n",
      "Reading D:\\Workspace\\DepressionDetection_FreeThesis\\Local_Development_Branch\\openneuro_Data\\sub-043\\eeg\\sub-043_task-Rest_run-01_eeg.fdt\n",
      "Reading D:\\Workspace\\DepressionDetection_FreeThesis\\Local_Development_Branch\\openneuro_Data\\sub-043\\eeg\\sub-043_task-Rest_run-02_eeg.fdt\n"
     ]
    },
    {
     "name": "stderr",
     "output_type": "stream",
     "text": [
      "D:\\tmp\\ipykernel_7984\\289501458.py:80: RuntimeWarning: The data contains 'boundary' events, indicating data discontinuities. Be cautious of filtering and epoching around these events.\n",
      "  mne_obj = mne.io.read_raw_eeglab(mne_file)\n"
     ]
    },
    {
     "name": "stdout",
     "output_type": "stream",
     "text": [
      "<<<<<<<Processing D:/Workspace/DepressionDetection_FreeThesis/Local_Development_Branch/openneuro_Data/sub-044\\eeg>>>>>>>\n",
      "Reading D:\\Workspace\\DepressionDetection_FreeThesis\\Local_Development_Branch\\openneuro_Data\\sub-044\\eeg\\sub-044_task-Rest_run-01_eeg.fdt\n",
      "Reading D:\\Workspace\\DepressionDetection_FreeThesis\\Local_Development_Branch\\openneuro_Data\\sub-044\\eeg\\sub-044_task-Rest_run-02_eeg.fdt\n"
     ]
    },
    {
     "name": "stderr",
     "output_type": "stream",
     "text": [
      "D:\\tmp\\ipykernel_7984\\289501458.py:80: RuntimeWarning: The data contains 'boundary' events, indicating data discontinuities. Be cautious of filtering and epoching around these events.\n",
      "  mne_obj = mne.io.read_raw_eeglab(mne_file)\n"
     ]
    },
    {
     "name": "stdout",
     "output_type": "stream",
     "text": [
      "<<<<<<<Processing D:/Workspace/DepressionDetection_FreeThesis/Local_Development_Branch/openneuro_Data/sub-045\\eeg>>>>>>>\n",
      "Reading D:\\Workspace\\DepressionDetection_FreeThesis\\Local_Development_Branch\\openneuro_Data\\sub-045\\eeg\\sub-045_task-Rest_run-01_eeg.fdt\n"
     ]
    },
    {
     "name": "stderr",
     "output_type": "stream",
     "text": [
      "D:\\tmp\\ipykernel_7984\\289501458.py:80: RuntimeWarning: The data contains 'boundary' events, indicating data discontinuities. Be cautious of filtering and epoching around these events.\n",
      "  mne_obj = mne.io.read_raw_eeglab(mne_file)\n"
     ]
    },
    {
     "name": "stdout",
     "output_type": "stream",
     "text": [
      "Reading D:\\Workspace\\DepressionDetection_FreeThesis\\Local_Development_Branch\\openneuro_Data\\sub-045\\eeg\\sub-045_task-Rest_run-02_eeg.fdt\n"
     ]
    },
    {
     "name": "stderr",
     "output_type": "stream",
     "text": [
      "D:\\tmp\\ipykernel_7984\\289501458.py:80: RuntimeWarning: The data contains 'boundary' events, indicating data discontinuities. Be cautious of filtering and epoching around these events.\n",
      "  mne_obj = mne.io.read_raw_eeglab(mne_file)\n"
     ]
    },
    {
     "name": "stdout",
     "output_type": "stream",
     "text": [
      "<<<<<<<Processing D:/Workspace/DepressionDetection_FreeThesis/Local_Development_Branch/openneuro_Data/sub-046\\eeg>>>>>>>\n",
      "Reading D:\\Workspace\\DepressionDetection_FreeThesis\\Local_Development_Branch\\openneuro_Data\\sub-046\\eeg\\sub-046_task-Rest_run-01_eeg.fdt\n",
      "Reading D:\\Workspace\\DepressionDetection_FreeThesis\\Local_Development_Branch\\openneuro_Data\\sub-046\\eeg\\sub-046_task-Rest_run-02_eeg.fdt\n"
     ]
    },
    {
     "name": "stderr",
     "output_type": "stream",
     "text": [
      "D:\\tmp\\ipykernel_7984\\289501458.py:80: RuntimeWarning: The data contains 'boundary' events, indicating data discontinuities. Be cautious of filtering and epoching around these events.\n",
      "  mne_obj = mne.io.read_raw_eeglab(mne_file)\n"
     ]
    },
    {
     "name": "stdout",
     "output_type": "stream",
     "text": [
      "<<<<<<<Processing D:/Workspace/DepressionDetection_FreeThesis/Local_Development_Branch/openneuro_Data/sub-047\\eeg>>>>>>>\n",
      "Reading D:\\Workspace\\DepressionDetection_FreeThesis\\Local_Development_Branch\\openneuro_Data\\sub-047\\eeg\\sub-047_task-Rest_run-01_eeg.fdt\n",
      "Reading D:\\Workspace\\DepressionDetection_FreeThesis\\Local_Development_Branch\\openneuro_Data\\sub-047\\eeg\\sub-047_task-Rest_run-02_eeg.fdt\n"
     ]
    },
    {
     "name": "stderr",
     "output_type": "stream",
     "text": [
      "D:\\tmp\\ipykernel_7984\\289501458.py:80: RuntimeWarning: The data contains 'boundary' events, indicating data discontinuities. Be cautious of filtering and epoching around these events.\n",
      "  mne_obj = mne.io.read_raw_eeglab(mne_file)\n"
     ]
    },
    {
     "name": "stdout",
     "output_type": "stream",
     "text": [
      "<<<<<<<Processing D:/Workspace/DepressionDetection_FreeThesis/Local_Development_Branch/openneuro_Data/sub-048\\eeg>>>>>>>\n",
      "Reading D:\\Workspace\\DepressionDetection_FreeThesis\\Local_Development_Branch\\openneuro_Data\\sub-048\\eeg\\sub-048_task-Rest_run-01_eeg.fdt\n"
     ]
    },
    {
     "name": "stderr",
     "output_type": "stream",
     "text": [
      "D:\\tmp\\ipykernel_7984\\289501458.py:80: RuntimeWarning: The data contains 'boundary' events, indicating data discontinuities. Be cautious of filtering and epoching around these events.\n",
      "  mne_obj = mne.io.read_raw_eeglab(mne_file)\n"
     ]
    },
    {
     "name": "stdout",
     "output_type": "stream",
     "text": [
      "Reading D:\\Workspace\\DepressionDetection_FreeThesis\\Local_Development_Branch\\openneuro_Data\\sub-048\\eeg\\sub-048_task-Rest_run-02_eeg.fdt\n",
      "<<<<<<<Processing D:/Workspace/DepressionDetection_FreeThesis/Local_Development_Branch/openneuro_Data/sub-049\\eeg>>>>>>>\n",
      "Reading D:\\Workspace\\DepressionDetection_FreeThesis\\Local_Development_Branch\\openneuro_Data\\sub-049\\eeg\\sub-049_task-Rest_run-01_eeg.fdt\n",
      "Reading D:\\Workspace\\DepressionDetection_FreeThesis\\Local_Development_Branch\\openneuro_Data\\sub-049\\eeg\\sub-049_task-Rest_run-02_eeg.fdt\n"
     ]
    },
    {
     "name": "stderr",
     "output_type": "stream",
     "text": [
      "D:\\tmp\\ipykernel_7984\\289501458.py:80: RuntimeWarning: The data contains 'boundary' events, indicating data discontinuities. Be cautious of filtering and epoching around these events.\n",
      "  mne_obj = mne.io.read_raw_eeglab(mne_file)\n"
     ]
    },
    {
     "name": "stdout",
     "output_type": "stream",
     "text": [
      "<<<<<<<Processing D:/Workspace/DepressionDetection_FreeThesis/Local_Development_Branch/openneuro_Data/sub-050\\eeg>>>>>>>\n",
      "Reading D:\\Workspace\\DepressionDetection_FreeThesis\\Local_Development_Branch\\openneuro_Data\\sub-050\\eeg\\sub-050_task-Rest_run-01_eeg.fdt\n",
      "Reading D:\\Workspace\\DepressionDetection_FreeThesis\\Local_Development_Branch\\openneuro_Data\\sub-050\\eeg\\sub-050_task-Rest_run-02_eeg.fdt\n",
      "<<<<<<<Processing D:/Workspace/DepressionDetection_FreeThesis/Local_Development_Branch/openneuro_Data/sub-051\\eeg>>>>>>>\n",
      "Reading D:\\Workspace\\DepressionDetection_FreeThesis\\Local_Development_Branch\\openneuro_Data\\sub-051\\eeg\\sub-051_task-Rest_run-01_eeg.fdt\n"
     ]
    },
    {
     "name": "stderr",
     "output_type": "stream",
     "text": [
      "D:\\tmp\\ipykernel_7984\\289501458.py:80: RuntimeWarning: The data contains 'boundary' events, indicating data discontinuities. Be cautious of filtering and epoching around these events.\n",
      "  mne_obj = mne.io.read_raw_eeglab(mne_file)\n"
     ]
    },
    {
     "name": "stdout",
     "output_type": "stream",
     "text": [
      "Reading D:\\Workspace\\DepressionDetection_FreeThesis\\Local_Development_Branch\\openneuro_Data\\sub-051\\eeg\\sub-051_task-Rest_run-02_eeg.fdt\n"
     ]
    },
    {
     "name": "stderr",
     "output_type": "stream",
     "text": [
      "D:\\tmp\\ipykernel_7984\\289501458.py:80: RuntimeWarning: The data contains 'boundary' events, indicating data discontinuities. Be cautious of filtering and epoching around these events.\n",
      "  mne_obj = mne.io.read_raw_eeglab(mne_file)\n"
     ]
    },
    {
     "name": "stdout",
     "output_type": "stream",
     "text": [
      "<<<<<<<Processing D:/Workspace/DepressionDetection_FreeThesis/Local_Development_Branch/openneuro_Data/sub-052\\eeg>>>>>>>\n",
      "Reading D:\\Workspace\\DepressionDetection_FreeThesis\\Local_Development_Branch\\openneuro_Data\\sub-052\\eeg\\sub-052_task-Rest_run-01_eeg.fdt\n",
      "Reading D:\\Workspace\\DepressionDetection_FreeThesis\\Local_Development_Branch\\openneuro_Data\\sub-052\\eeg\\sub-052_task-Rest_run-02_eeg.fdt\n"
     ]
    },
    {
     "name": "stderr",
     "output_type": "stream",
     "text": [
      "D:\\tmp\\ipykernel_7984\\289501458.py:80: RuntimeWarning: The data contains 'boundary' events, indicating data discontinuities. Be cautious of filtering and epoching around these events.\n",
      "  mne_obj = mne.io.read_raw_eeglab(mne_file)\n"
     ]
    },
    {
     "name": "stdout",
     "output_type": "stream",
     "text": [
      "<<<<<<<Processing D:/Workspace/DepressionDetection_FreeThesis/Local_Development_Branch/openneuro_Data/sub-053\\eeg>>>>>>>\n",
      "Reading D:\\Workspace\\DepressionDetection_FreeThesis\\Local_Development_Branch\\openneuro_Data\\sub-053\\eeg\\sub-053_task-Rest_run-01_eeg.fdt\n",
      "Reading D:\\Workspace\\DepressionDetection_FreeThesis\\Local_Development_Branch\\openneuro_Data\\sub-053\\eeg\\sub-053_task-Rest_run-02_eeg.fdt\n"
     ]
    },
    {
     "name": "stderr",
     "output_type": "stream",
     "text": [
      "D:\\tmp\\ipykernel_7984\\289501458.py:80: RuntimeWarning: The data contains 'boundary' events, indicating data discontinuities. Be cautious of filtering and epoching around these events.\n",
      "  mne_obj = mne.io.read_raw_eeglab(mne_file)\n"
     ]
    },
    {
     "name": "stdout",
     "output_type": "stream",
     "text": [
      "<<<<<<<Processing D:/Workspace/DepressionDetection_FreeThesis/Local_Development_Branch/openneuro_Data/sub-054\\eeg>>>>>>>\n",
      "Reading D:\\Workspace\\DepressionDetection_FreeThesis\\Local_Development_Branch\\openneuro_Data\\sub-054\\eeg\\sub-054_task-Rest_run-01_eeg.fdt\n"
     ]
    },
    {
     "name": "stderr",
     "output_type": "stream",
     "text": [
      "D:\\tmp\\ipykernel_7984\\289501458.py:80: RuntimeWarning: The data contains 'boundary' events, indicating data discontinuities. Be cautious of filtering and epoching around these events.\n",
      "  mne_obj = mne.io.read_raw_eeglab(mne_file)\n"
     ]
    },
    {
     "name": "stdout",
     "output_type": "stream",
     "text": [
      "Reading D:\\Workspace\\DepressionDetection_FreeThesis\\Local_Development_Branch\\openneuro_Data\\sub-054\\eeg\\sub-054_task-Rest_run-02_eeg.fdt\n",
      "<<<<<<<Processing D:/Workspace/DepressionDetection_FreeThesis/Local_Development_Branch/openneuro_Data/sub-055\\eeg>>>>>>>\n",
      "Reading D:\\Workspace\\DepressionDetection_FreeThesis\\Local_Development_Branch\\openneuro_Data\\sub-055\\eeg\\sub-055_task-Rest_run-01_eeg.fdt\n",
      "Reading D:\\Workspace\\DepressionDetection_FreeThesis\\Local_Development_Branch\\openneuro_Data\\sub-055\\eeg\\sub-055_task-Rest_run-02_eeg.fdt\n"
     ]
    },
    {
     "name": "stderr",
     "output_type": "stream",
     "text": [
      "D:\\tmp\\ipykernel_7984\\289501458.py:80: RuntimeWarning: The data contains 'boundary' events, indicating data discontinuities. Be cautious of filtering and epoching around these events.\n",
      "  mne_obj = mne.io.read_raw_eeglab(mne_file)\n"
     ]
    },
    {
     "name": "stdout",
     "output_type": "stream",
     "text": [
      "<<<<<<<Processing D:/Workspace/DepressionDetection_FreeThesis/Local_Development_Branch/openneuro_Data/sub-056\\eeg>>>>>>>\n",
      "Reading D:\\Workspace\\DepressionDetection_FreeThesis\\Local_Development_Branch\\openneuro_Data\\sub-056\\eeg\\sub-056_task-Rest_run-01_eeg.fdt\n"
     ]
    },
    {
     "name": "stderr",
     "output_type": "stream",
     "text": [
      "D:\\tmp\\ipykernel_7984\\289501458.py:80: RuntimeWarning: The data contains 'boundary' events, indicating data discontinuities. Be cautious of filtering and epoching around these events.\n",
      "  mne_obj = mne.io.read_raw_eeglab(mne_file)\n"
     ]
    },
    {
     "name": "stdout",
     "output_type": "stream",
     "text": [
      "Reading D:\\Workspace\\DepressionDetection_FreeThesis\\Local_Development_Branch\\openneuro_Data\\sub-056\\eeg\\sub-056_task-Rest_run-02_eeg.fdt\n"
     ]
    },
    {
     "name": "stderr",
     "output_type": "stream",
     "text": [
      "D:\\tmp\\ipykernel_7984\\289501458.py:80: RuntimeWarning: The data contains 'boundary' events, indicating data discontinuities. Be cautious of filtering and epoching around these events.\n",
      "  mne_obj = mne.io.read_raw_eeglab(mne_file)\n"
     ]
    },
    {
     "name": "stdout",
     "output_type": "stream",
     "text": [
      "<<<<<<<Processing D:/Workspace/DepressionDetection_FreeThesis/Local_Development_Branch/openneuro_Data/sub-057\\eeg>>>>>>>\n",
      "Reading D:\\Workspace\\DepressionDetection_FreeThesis\\Local_Development_Branch\\openneuro_Data\\sub-057\\eeg\\sub-057_task-Rest_run-01_eeg.fdt\n"
     ]
    },
    {
     "name": "stderr",
     "output_type": "stream",
     "text": [
      "D:\\tmp\\ipykernel_7984\\289501458.py:80: RuntimeWarning: The data contains 'boundary' events, indicating data discontinuities. Be cautious of filtering and epoching around these events.\n",
      "  mne_obj = mne.io.read_raw_eeglab(mne_file)\n"
     ]
    },
    {
     "name": "stdout",
     "output_type": "stream",
     "text": [
      "Reading D:\\Workspace\\DepressionDetection_FreeThesis\\Local_Development_Branch\\openneuro_Data\\sub-057\\eeg\\sub-057_task-Rest_run-02_eeg.fdt\n"
     ]
    },
    {
     "name": "stderr",
     "output_type": "stream",
     "text": [
      "D:\\tmp\\ipykernel_7984\\289501458.py:80: RuntimeWarning: The data contains 'boundary' events, indicating data discontinuities. Be cautious of filtering and epoching around these events.\n",
      "  mne_obj = mne.io.read_raw_eeglab(mne_file)\n"
     ]
    },
    {
     "name": "stdout",
     "output_type": "stream",
     "text": [
      "<<<<<<<Processing D:/Workspace/DepressionDetection_FreeThesis/Local_Development_Branch/openneuro_Data/sub-058\\eeg>>>>>>>\n",
      "Reading D:\\Workspace\\DepressionDetection_FreeThesis\\Local_Development_Branch\\openneuro_Data\\sub-058\\eeg\\sub-058_task-Rest_run-01_eeg.fdt\n",
      "Reading D:\\Workspace\\DepressionDetection_FreeThesis\\Local_Development_Branch\\openneuro_Data\\sub-058\\eeg\\sub-058_task-Rest_run-02_eeg.fdt\n",
      "<<<<<<<Processing D:/Workspace/DepressionDetection_FreeThesis/Local_Development_Branch/openneuro_Data/sub-059\\eeg>>>>>>>\n",
      "Reading D:\\Workspace\\DepressionDetection_FreeThesis\\Local_Development_Branch\\openneuro_Data\\sub-059\\eeg\\sub-059_task-Rest_run-01_eeg.fdt\n",
      "Reading D:\\Workspace\\DepressionDetection_FreeThesis\\Local_Development_Branch\\openneuro_Data\\sub-059\\eeg\\sub-059_task-Rest_run-02_eeg.fdt\n"
     ]
    },
    {
     "name": "stderr",
     "output_type": "stream",
     "text": [
      "D:\\tmp\\ipykernel_7984\\289501458.py:80: RuntimeWarning: The data contains 'boundary' events, indicating data discontinuities. Be cautious of filtering and epoching around these events.\n",
      "  mne_obj = mne.io.read_raw_eeglab(mne_file)\n"
     ]
    },
    {
     "name": "stdout",
     "output_type": "stream",
     "text": [
      "<<<<<<<Processing D:/Workspace/DepressionDetection_FreeThesis/Local_Development_Branch/openneuro_Data/sub-060\\eeg>>>>>>>\n",
      "Reading D:\\Workspace\\DepressionDetection_FreeThesis\\Local_Development_Branch\\openneuro_Data\\sub-060\\eeg\\sub-060_task-Rest_run-01_eeg.fdt\n"
     ]
    },
    {
     "name": "stderr",
     "output_type": "stream",
     "text": [
      "D:\\tmp\\ipykernel_7984\\289501458.py:80: RuntimeWarning: The data contains 'boundary' events, indicating data discontinuities. Be cautious of filtering and epoching around these events.\n",
      "  mne_obj = mne.io.read_raw_eeglab(mne_file)\n"
     ]
    },
    {
     "name": "stdout",
     "output_type": "stream",
     "text": [
      "Reading D:\\Workspace\\DepressionDetection_FreeThesis\\Local_Development_Branch\\openneuro_Data\\sub-060\\eeg\\sub-060_task-Rest_run-02_eeg.fdt\n",
      "<<<<<<<Processing D:/Workspace/DepressionDetection_FreeThesis/Local_Development_Branch/openneuro_Data/sub-061\\eeg>>>>>>>\n",
      "Reading D:\\Workspace\\DepressionDetection_FreeThesis\\Local_Development_Branch\\openneuro_Data\\sub-061\\eeg\\sub-061_task-Rest_run-01_eeg.fdt\n",
      "Reading D:\\Workspace\\DepressionDetection_FreeThesis\\Local_Development_Branch\\openneuro_Data\\sub-061\\eeg\\sub-061_task-Rest_run-02_eeg.fdt\n",
      "<<<<<<<Processing D:/Workspace/DepressionDetection_FreeThesis/Local_Development_Branch/openneuro_Data/sub-062\\eeg>>>>>>>\n",
      "Reading D:\\Workspace\\DepressionDetection_FreeThesis\\Local_Development_Branch\\openneuro_Data\\sub-062\\eeg\\sub-062_task-Rest_run-01_eeg.fdt\n",
      "Reading D:\\Workspace\\DepressionDetection_FreeThesis\\Local_Development_Branch\\openneuro_Data\\sub-062\\eeg\\sub-062_task-Rest_run-02_eeg.fdt\n",
      "<<<<<<<Processing D:/Workspace/DepressionDetection_FreeThesis/Local_Development_Branch/openneuro_Data/sub-063\\eeg>>>>>>>\n",
      "Reading D:\\Workspace\\DepressionDetection_FreeThesis\\Local_Development_Branch\\openneuro_Data\\sub-063\\eeg\\sub-063_task-Rest_run-01_eeg.fdt\n"
     ]
    },
    {
     "name": "stderr",
     "output_type": "stream",
     "text": [
      "D:\\tmp\\ipykernel_7984\\289501458.py:80: RuntimeWarning: The data contains 'boundary' events, indicating data discontinuities. Be cautious of filtering and epoching around these events.\n",
      "  mne_obj = mne.io.read_raw_eeglab(mne_file)\n"
     ]
    },
    {
     "name": "stdout",
     "output_type": "stream",
     "text": [
      "Reading D:\\Workspace\\DepressionDetection_FreeThesis\\Local_Development_Branch\\openneuro_Data\\sub-063\\eeg\\sub-063_task-Rest_run-02_eeg.fdt\n",
      "<<<<<<<Processing D:/Workspace/DepressionDetection_FreeThesis/Local_Development_Branch/openneuro_Data/sub-064\\eeg>>>>>>>\n",
      "Reading D:\\Workspace\\DepressionDetection_FreeThesis\\Local_Development_Branch\\openneuro_Data\\sub-064\\eeg\\sub-064_task-Rest_run-01_eeg.fdt\n",
      "Reading D:\\Workspace\\DepressionDetection_FreeThesis\\Local_Development_Branch\\openneuro_Data\\sub-064\\eeg\\sub-064_task-Rest_run-02_eeg.fdt\n",
      "<<<<<<<Processing D:/Workspace/DepressionDetection_FreeThesis/Local_Development_Branch/openneuro_Data/sub-065\\eeg>>>>>>>\n",
      "Reading D:\\Workspace\\DepressionDetection_FreeThesis\\Local_Development_Branch\\openneuro_Data\\sub-065\\eeg\\sub-065_task-Rest_run-01_eeg.fdt\n"
     ]
    },
    {
     "name": "stderr",
     "output_type": "stream",
     "text": [
      "D:\\tmp\\ipykernel_7984\\289501458.py:80: RuntimeWarning: The data contains 'boundary' events, indicating data discontinuities. Be cautious of filtering and epoching around these events.\n",
      "  mne_obj = mne.io.read_raw_eeglab(mne_file)\n"
     ]
    },
    {
     "name": "stdout",
     "output_type": "stream",
     "text": [
      "Reading D:\\Workspace\\DepressionDetection_FreeThesis\\Local_Development_Branch\\openneuro_Data\\sub-065\\eeg\\sub-065_task-Rest_run-02_eeg.fdt\n"
     ]
    },
    {
     "name": "stderr",
     "output_type": "stream",
     "text": [
      "D:\\tmp\\ipykernel_7984\\289501458.py:80: RuntimeWarning: The data contains 'boundary' events, indicating data discontinuities. Be cautious of filtering and epoching around these events.\n",
      "  mne_obj = mne.io.read_raw_eeglab(mne_file)\n"
     ]
    },
    {
     "name": "stdout",
     "output_type": "stream",
     "text": [
      "<<<<<<<Processing D:/Workspace/DepressionDetection_FreeThesis/Local_Development_Branch/openneuro_Data/sub-066\\eeg>>>>>>>\n",
      "Reading D:\\Workspace\\DepressionDetection_FreeThesis\\Local_Development_Branch\\openneuro_Data\\sub-066\\eeg\\sub-066_task-Rest_run-01_eeg.fdt\n"
     ]
    },
    {
     "name": "stderr",
     "output_type": "stream",
     "text": [
      "D:\\tmp\\ipykernel_7984\\289501458.py:80: RuntimeWarning: The data contains 'boundary' events, indicating data discontinuities. Be cautious of filtering and epoching around these events.\n",
      "  mne_obj = mne.io.read_raw_eeglab(mne_file)\n"
     ]
    },
    {
     "name": "stdout",
     "output_type": "stream",
     "text": [
      "Reading D:\\Workspace\\DepressionDetection_FreeThesis\\Local_Development_Branch\\openneuro_Data\\sub-066\\eeg\\sub-066_task-Rest_run-02_eeg.fdt\n",
      "<<<<<<<Processing D:/Workspace/DepressionDetection_FreeThesis/Local_Development_Branch/openneuro_Data/sub-067\\eeg>>>>>>>\n",
      "Reading D:\\Workspace\\DepressionDetection_FreeThesis\\Local_Development_Branch\\openneuro_Data\\sub-067\\eeg\\sub-067_task-Rest_run-01_eeg.fdt\n"
     ]
    },
    {
     "name": "stderr",
     "output_type": "stream",
     "text": [
      "D:\\tmp\\ipykernel_7984\\289501458.py:80: RuntimeWarning: The data contains 'boundary' events, indicating data discontinuities. Be cautious of filtering and epoching around these events.\n",
      "  mne_obj = mne.io.read_raw_eeglab(mne_file)\n"
     ]
    },
    {
     "name": "stdout",
     "output_type": "stream",
     "text": [
      "Reading D:\\Workspace\\DepressionDetection_FreeThesis\\Local_Development_Branch\\openneuro_Data\\sub-067\\eeg\\sub-067_task-Rest_run-02_eeg.fdt\n"
     ]
    },
    {
     "name": "stderr",
     "output_type": "stream",
     "text": [
      "D:\\tmp\\ipykernel_7984\\289501458.py:80: RuntimeWarning: The data contains 'boundary' events, indicating data discontinuities. Be cautious of filtering and epoching around these events.\n",
      "  mne_obj = mne.io.read_raw_eeglab(mne_file)\n"
     ]
    },
    {
     "name": "stdout",
     "output_type": "stream",
     "text": [
      "<<<<<<<Processing D:/Workspace/DepressionDetection_FreeThesis/Local_Development_Branch/openneuro_Data/sub-068\\eeg>>>>>>>\n",
      "Reading D:\\Workspace\\DepressionDetection_FreeThesis\\Local_Development_Branch\\openneuro_Data\\sub-068\\eeg\\sub-068_task-Rest_run-01_eeg.fdt\n"
     ]
    },
    {
     "name": "stderr",
     "output_type": "stream",
     "text": [
      "D:\\tmp\\ipykernel_7984\\289501458.py:80: RuntimeWarning: The data contains 'boundary' events, indicating data discontinuities. Be cautious of filtering and epoching around these events.\n",
      "  mne_obj = mne.io.read_raw_eeglab(mne_file)\n"
     ]
    },
    {
     "name": "stdout",
     "output_type": "stream",
     "text": [
      "Reading D:\\Workspace\\DepressionDetection_FreeThesis\\Local_Development_Branch\\openneuro_Data\\sub-068\\eeg\\sub-068_task-Rest_run-02_eeg.fdt\n"
     ]
    },
    {
     "name": "stderr",
     "output_type": "stream",
     "text": [
      "D:\\tmp\\ipykernel_7984\\289501458.py:80: RuntimeWarning: The data contains 'boundary' events, indicating data discontinuities. Be cautious of filtering and epoching around these events.\n",
      "  mne_obj = mne.io.read_raw_eeglab(mne_file)\n"
     ]
    },
    {
     "name": "stdout",
     "output_type": "stream",
     "text": [
      "<<<<<<<Processing D:/Workspace/DepressionDetection_FreeThesis/Local_Development_Branch/openneuro_Data/sub-069\\eeg>>>>>>>\n",
      "Reading D:\\Workspace\\DepressionDetection_FreeThesis\\Local_Development_Branch\\openneuro_Data\\sub-069\\eeg\\sub-069_task-Rest_run-01_eeg.fdt\n"
     ]
    },
    {
     "name": "stderr",
     "output_type": "stream",
     "text": [
      "D:\\tmp\\ipykernel_7984\\289501458.py:80: RuntimeWarning: The data contains 'boundary' events, indicating data discontinuities. Be cautious of filtering and epoching around these events.\n",
      "  mne_obj = mne.io.read_raw_eeglab(mne_file)\n"
     ]
    },
    {
     "name": "stdout",
     "output_type": "stream",
     "text": [
      "Reading D:\\Workspace\\DepressionDetection_FreeThesis\\Local_Development_Branch\\openneuro_Data\\sub-069\\eeg\\sub-069_task-Rest_run-02_eeg.fdt\n",
      "<<<<<<<Processing D:/Workspace/DepressionDetection_FreeThesis/Local_Development_Branch/openneuro_Data/sub-070\\eeg>>>>>>>\n",
      "Reading D:\\Workspace\\DepressionDetection_FreeThesis\\Local_Development_Branch\\openneuro_Data\\sub-070\\eeg\\sub-070_task-Rest_run-01_eeg.fdt\n"
     ]
    },
    {
     "name": "stderr",
     "output_type": "stream",
     "text": [
      "D:\\tmp\\ipykernel_7984\\289501458.py:80: RuntimeWarning: The data contains 'boundary' events, indicating data discontinuities. Be cautious of filtering and epoching around these events.\n",
      "  mne_obj = mne.io.read_raw_eeglab(mne_file)\n"
     ]
    },
    {
     "name": "stdout",
     "output_type": "stream",
     "text": [
      "Reading D:\\Workspace\\DepressionDetection_FreeThesis\\Local_Development_Branch\\openneuro_Data\\sub-070\\eeg\\sub-070_task-Rest_run-02_eeg.fdt\n"
     ]
    },
    {
     "name": "stderr",
     "output_type": "stream",
     "text": [
      "D:\\tmp\\ipykernel_7984\\289501458.py:80: RuntimeWarning: The data contains 'boundary' events, indicating data discontinuities. Be cautious of filtering and epoching around these events.\n",
      "  mne_obj = mne.io.read_raw_eeglab(mne_file)\n"
     ]
    },
    {
     "name": "stdout",
     "output_type": "stream",
     "text": [
      "<<<<<<<Processing D:/Workspace/DepressionDetection_FreeThesis/Local_Development_Branch/openneuro_Data/sub-071\\eeg>>>>>>>\n",
      "Reading D:\\Workspace\\DepressionDetection_FreeThesis\\Local_Development_Branch\\openneuro_Data\\sub-071\\eeg\\sub-071_task-Rest_run-01_eeg.fdt\n",
      "Reading D:\\Workspace\\DepressionDetection_FreeThesis\\Local_Development_Branch\\openneuro_Data\\sub-071\\eeg\\sub-071_task-Rest_run-02_eeg.fdt\n",
      "<<<<<<<Processing D:/Workspace/DepressionDetection_FreeThesis/Local_Development_Branch/openneuro_Data/sub-072\\eeg>>>>>>>\n",
      "Reading D:\\Workspace\\DepressionDetection_FreeThesis\\Local_Development_Branch\\openneuro_Data\\sub-072\\eeg\\sub-072_task-Rest_run-01_eeg.fdt\n"
     ]
    },
    {
     "name": "stderr",
     "output_type": "stream",
     "text": [
      "D:\\tmp\\ipykernel_7984\\289501458.py:80: RuntimeWarning: The data contains 'boundary' events, indicating data discontinuities. Be cautious of filtering and epoching around these events.\n",
      "  mne_obj = mne.io.read_raw_eeglab(mne_file)\n"
     ]
    },
    {
     "name": "stdout",
     "output_type": "stream",
     "text": [
      "Reading D:\\Workspace\\DepressionDetection_FreeThesis\\Local_Development_Branch\\openneuro_Data\\sub-072\\eeg\\sub-072_task-Rest_run-02_eeg.fdt\n",
      "<<<<<<<Processing D:/Workspace/DepressionDetection_FreeThesis/Local_Development_Branch/openneuro_Data/sub-073\\eeg>>>>>>>\n",
      "Reading D:\\Workspace\\DepressionDetection_FreeThesis\\Local_Development_Branch\\openneuro_Data\\sub-073\\eeg\\sub-073_task-Rest_run-01_eeg.fdt\n",
      "Reading D:\\Workspace\\DepressionDetection_FreeThesis\\Local_Development_Branch\\openneuro_Data\\sub-073\\eeg\\sub-073_task-Rest_run-02_eeg.fdt\n",
      "<<<<<<<Processing D:/Workspace/DepressionDetection_FreeThesis/Local_Development_Branch/openneuro_Data/sub-074\\eeg>>>>>>>\n",
      "Reading D:\\Workspace\\DepressionDetection_FreeThesis\\Local_Development_Branch\\openneuro_Data\\sub-074\\eeg\\sub-074_task-Rest_run-01_eeg.fdt\n",
      "Reading D:\\Workspace\\DepressionDetection_FreeThesis\\Local_Development_Branch\\openneuro_Data\\sub-074\\eeg\\sub-074_task-Rest_run-02_eeg.fdt\n",
      "<<<<<<<Processing D:/Workspace/DepressionDetection_FreeThesis/Local_Development_Branch/openneuro_Data/sub-075\\eeg>>>>>>>\n",
      "Reading D:\\Workspace\\DepressionDetection_FreeThesis\\Local_Development_Branch\\openneuro_Data\\sub-075\\eeg\\sub-075_task-Rest_run-01_eeg.fdt\n",
      "Reading D:\\Workspace\\DepressionDetection_FreeThesis\\Local_Development_Branch\\openneuro_Data\\sub-075\\eeg\\sub-075_task-Rest_run-02_eeg.fdt\n",
      "<<<<<<<Processing D:/Workspace/DepressionDetection_FreeThesis/Local_Development_Branch/openneuro_Data/sub-076\\eeg>>>>>>>\n",
      "Reading D:\\Workspace\\DepressionDetection_FreeThesis\\Local_Development_Branch\\openneuro_Data\\sub-076\\eeg\\sub-076_task-Rest_run-01_eeg.fdt\n"
     ]
    },
    {
     "name": "stderr",
     "output_type": "stream",
     "text": [
      "D:\\tmp\\ipykernel_7984\\289501458.py:80: RuntimeWarning: The data contains 'boundary' events, indicating data discontinuities. Be cautious of filtering and epoching around these events.\n",
      "  mne_obj = mne.io.read_raw_eeglab(mne_file)\n"
     ]
    },
    {
     "name": "stdout",
     "output_type": "stream",
     "text": [
      "Reading D:\\Workspace\\DepressionDetection_FreeThesis\\Local_Development_Branch\\openneuro_Data\\sub-076\\eeg\\sub-076_task-Rest_run-02_eeg.fdt\n",
      "<<<<<<<Processing D:/Workspace/DepressionDetection_FreeThesis/Local_Development_Branch/openneuro_Data/sub-077\\eeg>>>>>>>\n",
      "Reading D:\\Workspace\\DepressionDetection_FreeThesis\\Local_Development_Branch\\openneuro_Data\\sub-077\\eeg\\sub-077_task-Rest_run-01_eeg.fdt\n",
      "Reading D:\\Workspace\\DepressionDetection_FreeThesis\\Local_Development_Branch\\openneuro_Data\\sub-077\\eeg\\sub-077_task-Rest_run-02_eeg.fdt\n",
      "<<<<<<<Processing D:/Workspace/DepressionDetection_FreeThesis/Local_Development_Branch/openneuro_Data/sub-078\\eeg>>>>>>>\n",
      "Reading D:\\Workspace\\DepressionDetection_FreeThesis\\Local_Development_Branch\\openneuro_Data\\sub-078\\eeg\\sub-078_task-Rest_run-01_eeg.fdt\n"
     ]
    },
    {
     "name": "stderr",
     "output_type": "stream",
     "text": [
      "D:\\tmp\\ipykernel_7984\\289501458.py:80: RuntimeWarning: The data contains 'boundary' events, indicating data discontinuities. Be cautious of filtering and epoching around these events.\n",
      "  mne_obj = mne.io.read_raw_eeglab(mne_file)\n"
     ]
    },
    {
     "name": "stdout",
     "output_type": "stream",
     "text": [
      "Reading D:\\Workspace\\DepressionDetection_FreeThesis\\Local_Development_Branch\\openneuro_Data\\sub-078\\eeg\\sub-078_task-Rest_run-02_eeg.fdt\n",
      "<<<<<<<Processing D:/Workspace/DepressionDetection_FreeThesis/Local_Development_Branch/openneuro_Data/sub-079\\eeg>>>>>>>\n",
      "Reading D:\\Workspace\\DepressionDetection_FreeThesis\\Local_Development_Branch\\openneuro_Data\\sub-079\\eeg\\sub-079_task-Rest_run-01_eeg.fdt\n"
     ]
    },
    {
     "name": "stderr",
     "output_type": "stream",
     "text": [
      "D:\\tmp\\ipykernel_7984\\289501458.py:80: RuntimeWarning: The data contains 'boundary' events, indicating data discontinuities. Be cautious of filtering and epoching around these events.\n",
      "  mne_obj = mne.io.read_raw_eeglab(mne_file)\n"
     ]
    },
    {
     "name": "stdout",
     "output_type": "stream",
     "text": [
      "Reading D:\\Workspace\\DepressionDetection_FreeThesis\\Local_Development_Branch\\openneuro_Data\\sub-079\\eeg\\sub-079_task-Rest_run-02_eeg.fdt\n",
      "<<<<<<<Processing D:/Workspace/DepressionDetection_FreeThesis/Local_Development_Branch/openneuro_Data/sub-080\\eeg>>>>>>>\n",
      "Reading D:\\Workspace\\DepressionDetection_FreeThesis\\Local_Development_Branch\\openneuro_Data\\sub-080\\eeg\\sub-080_task-Rest_run-01_eeg.fdt\n"
     ]
    },
    {
     "name": "stderr",
     "output_type": "stream",
     "text": [
      "D:\\tmp\\ipykernel_7984\\289501458.py:80: RuntimeWarning: The data contains 'boundary' events, indicating data discontinuities. Be cautious of filtering and epoching around these events.\n",
      "  mne_obj = mne.io.read_raw_eeglab(mne_file)\n"
     ]
    },
    {
     "name": "stdout",
     "output_type": "stream",
     "text": [
      "Reading D:\\Workspace\\DepressionDetection_FreeThesis\\Local_Development_Branch\\openneuro_Data\\sub-080\\eeg\\sub-080_task-Rest_run-02_eeg.fdt\n"
     ]
    },
    {
     "name": "stderr",
     "output_type": "stream",
     "text": [
      "D:\\tmp\\ipykernel_7984\\289501458.py:80: RuntimeWarning: The data contains 'boundary' events, indicating data discontinuities. Be cautious of filtering and epoching around these events.\n",
      "  mne_obj = mne.io.read_raw_eeglab(mne_file)\n"
     ]
    },
    {
     "name": "stdout",
     "output_type": "stream",
     "text": [
      "<<<<<<<Processing D:/Workspace/DepressionDetection_FreeThesis/Local_Development_Branch/openneuro_Data/sub-081\\eeg>>>>>>>\n",
      "Reading D:\\Workspace\\DepressionDetection_FreeThesis\\Local_Development_Branch\\openneuro_Data\\sub-081\\eeg\\sub-081_task-Rest_run-01_eeg.fdt\n",
      "Reading D:\\Workspace\\DepressionDetection_FreeThesis\\Local_Development_Branch\\openneuro_Data\\sub-081\\eeg\\sub-081_task-Rest_run-02_eeg.fdt\n",
      "<<<<<<<Processing D:/Workspace/DepressionDetection_FreeThesis/Local_Development_Branch/openneuro_Data/sub-082\\eeg>>>>>>>\n",
      "Reading D:\\Workspace\\DepressionDetection_FreeThesis\\Local_Development_Branch\\openneuro_Data\\sub-082\\eeg\\sub-082_task-Rest_run-01_eeg.fdt\n"
     ]
    },
    {
     "name": "stderr",
     "output_type": "stream",
     "text": [
      "D:\\tmp\\ipykernel_7984\\289501458.py:80: RuntimeWarning: The data contains 'boundary' events, indicating data discontinuities. Be cautious of filtering and epoching around these events.\n",
      "  mne_obj = mne.io.read_raw_eeglab(mne_file)\n"
     ]
    },
    {
     "name": "stdout",
     "output_type": "stream",
     "text": [
      "Reading D:\\Workspace\\DepressionDetection_FreeThesis\\Local_Development_Branch\\openneuro_Data\\sub-082\\eeg\\sub-082_task-Rest_run-02_eeg.fdt\n",
      "<<<<<<<Processing D:/Workspace/DepressionDetection_FreeThesis/Local_Development_Branch/openneuro_Data/sub-083\\eeg>>>>>>>\n",
      "Reading D:\\Workspace\\DepressionDetection_FreeThesis\\Local_Development_Branch\\openneuro_Data\\sub-083\\eeg\\sub-083_task-Rest_run-01_eeg.fdt\n",
      "Reading D:\\Workspace\\DepressionDetection_FreeThesis\\Local_Development_Branch\\openneuro_Data\\sub-083\\eeg\\sub-083_task-Rest_run-02_eeg.fdt\n",
      "<<<<<<<Processing D:/Workspace/DepressionDetection_FreeThesis/Local_Development_Branch/openneuro_Data/sub-084\\eeg>>>>>>>\n",
      "Reading D:\\Workspace\\DepressionDetection_FreeThesis\\Local_Development_Branch\\openneuro_Data\\sub-084\\eeg\\sub-084_task-Rest_run-01_eeg.fdt\n",
      "Reading D:\\Workspace\\DepressionDetection_FreeThesis\\Local_Development_Branch\\openneuro_Data\\sub-084\\eeg\\sub-084_task-Rest_run-02_eeg.fdt\n",
      "<<<<<<<Processing D:/Workspace/DepressionDetection_FreeThesis/Local_Development_Branch/openneuro_Data/sub-085\\eeg>>>>>>>\n",
      "Reading D:\\Workspace\\DepressionDetection_FreeThesis\\Local_Development_Branch\\openneuro_Data\\sub-085\\eeg\\sub-085_task-Rest_run-01_eeg.fdt\n",
      "Reading D:\\Workspace\\DepressionDetection_FreeThesis\\Local_Development_Branch\\openneuro_Data\\sub-085\\eeg\\sub-085_task-Rest_run-02_eeg.fdt\n",
      "<<<<<<<Processing D:/Workspace/DepressionDetection_FreeThesis/Local_Development_Branch/openneuro_Data/sub-086\\eeg>>>>>>>\n",
      "Reading D:\\Workspace\\DepressionDetection_FreeThesis\\Local_Development_Branch\\openneuro_Data\\sub-086\\eeg\\sub-086_task-Rest_run-01_eeg.fdt\n",
      "Reading D:\\Workspace\\DepressionDetection_FreeThesis\\Local_Development_Branch\\openneuro_Data\\sub-086\\eeg\\sub-086_task-Rest_run-02_eeg.fdt\n",
      "<<<<<<<Processing D:/Workspace/DepressionDetection_FreeThesis/Local_Development_Branch/openneuro_Data/sub-087\\eeg>>>>>>>\n",
      "Reading D:\\Workspace\\DepressionDetection_FreeThesis\\Local_Development_Branch\\openneuro_Data\\sub-087\\eeg\\sub-087_task-Rest_run-01_eeg.fdt\n",
      "Reading D:\\Workspace\\DepressionDetection_FreeThesis\\Local_Development_Branch\\openneuro_Data\\sub-087\\eeg\\sub-087_task-Rest_run-02_eeg.fdt\n",
      "<<<<<<<Processing D:/Workspace/DepressionDetection_FreeThesis/Local_Development_Branch/openneuro_Data/sub-088\\eeg>>>>>>>\n",
      "Reading D:\\Workspace\\DepressionDetection_FreeThesis\\Local_Development_Branch\\openneuro_Data\\sub-088\\eeg\\sub-088_task-Rest_run-01_eeg.fdt\n",
      "Reading D:\\Workspace\\DepressionDetection_FreeThesis\\Local_Development_Branch\\openneuro_Data\\sub-088\\eeg\\sub-088_task-Rest_run-02_eeg.fdt\n",
      "<<<<<<<Processing D:/Workspace/DepressionDetection_FreeThesis/Local_Development_Branch/openneuro_Data/sub-089\\eeg>>>>>>>\n",
      "Reading D:\\Workspace\\DepressionDetection_FreeThesis\\Local_Development_Branch\\openneuro_Data\\sub-089\\eeg\\sub-089_task-Rest_run-01_eeg.fdt\n",
      "Reading D:\\Workspace\\DepressionDetection_FreeThesis\\Local_Development_Branch\\openneuro_Data\\sub-089\\eeg\\sub-089_task-Rest_run-02_eeg.fdt\n",
      "<<<<<<<Processing D:/Workspace/DepressionDetection_FreeThesis/Local_Development_Branch/openneuro_Data/sub-090\\eeg>>>>>>>\n",
      "Reading D:\\Workspace\\DepressionDetection_FreeThesis\\Local_Development_Branch\\openneuro_Data\\sub-090\\eeg\\sub-090_task-Rest_run-01_eeg.fdt\n",
      "Reading D:\\Workspace\\DepressionDetection_FreeThesis\\Local_Development_Branch\\openneuro_Data\\sub-090\\eeg\\sub-090_task-Rest_run-02_eeg.fdt\n",
      "<<<<<<<Processing D:/Workspace/DepressionDetection_FreeThesis/Local_Development_Branch/openneuro_Data/sub-091\\eeg>>>>>>>\n",
      "Reading D:\\Workspace\\DepressionDetection_FreeThesis\\Local_Development_Branch\\openneuro_Data\\sub-091\\eeg\\sub-091_task-Rest_run-01_eeg.fdt\n",
      "Reading D:\\Workspace\\DepressionDetection_FreeThesis\\Local_Development_Branch\\openneuro_Data\\sub-091\\eeg\\sub-091_task-Rest_run-02_eeg.fdt\n",
      "<<<<<<<Processing D:/Workspace/DepressionDetection_FreeThesis/Local_Development_Branch/openneuro_Data/sub-092\\eeg>>>>>>>\n",
      "Reading D:\\Workspace\\DepressionDetection_FreeThesis\\Local_Development_Branch\\openneuro_Data\\sub-092\\eeg\\sub-092_task-Rest_run-01_eeg.fdt\n",
      "Reading D:\\Workspace\\DepressionDetection_FreeThesis\\Local_Development_Branch\\openneuro_Data\\sub-092\\eeg\\sub-092_task-Rest_run-02_eeg.fdt\n",
      "<<<<<<<Processing D:/Workspace/DepressionDetection_FreeThesis/Local_Development_Branch/openneuro_Data/sub-093\\eeg>>>>>>>\n",
      "Reading D:\\Workspace\\DepressionDetection_FreeThesis\\Local_Development_Branch\\openneuro_Data\\sub-093\\eeg\\sub-093_task-Rest_run-01_eeg.fdt\n",
      "Reading D:\\Workspace\\DepressionDetection_FreeThesis\\Local_Development_Branch\\openneuro_Data\\sub-093\\eeg\\sub-093_task-Rest_run-02_eeg.fdt\n",
      "<<<<<<<Processing D:/Workspace/DepressionDetection_FreeThesis/Local_Development_Branch/openneuro_Data/sub-094\\eeg>>>>>>>\n",
      "Reading D:\\Workspace\\DepressionDetection_FreeThesis\\Local_Development_Branch\\openneuro_Data\\sub-094\\eeg\\sub-094_task-Rest_run-01_eeg.fdt\n"
     ]
    },
    {
     "name": "stderr",
     "output_type": "stream",
     "text": [
      "D:\\tmp\\ipykernel_7984\\289501458.py:80: RuntimeWarning: The data contains 'boundary' events, indicating data discontinuities. Be cautious of filtering and epoching around these events.\n",
      "  mne_obj = mne.io.read_raw_eeglab(mne_file)\n"
     ]
    },
    {
     "name": "stdout",
     "output_type": "stream",
     "text": [
      "Reading D:\\Workspace\\DepressionDetection_FreeThesis\\Local_Development_Branch\\openneuro_Data\\sub-094\\eeg\\sub-094_task-Rest_run-02_eeg.fdt\n",
      "<<<<<<<Processing D:/Workspace/DepressionDetection_FreeThesis/Local_Development_Branch/openneuro_Data/sub-095\\eeg>>>>>>>\n",
      "Reading D:\\Workspace\\DepressionDetection_FreeThesis\\Local_Development_Branch\\openneuro_Data\\sub-095\\eeg\\sub-095_task-Rest_run-01_eeg.fdt\n",
      "Reading D:\\Workspace\\DepressionDetection_FreeThesis\\Local_Development_Branch\\openneuro_Data\\sub-095\\eeg\\sub-095_task-Rest_run-02_eeg.fdt\n",
      "<<<<<<<Processing D:/Workspace/DepressionDetection_FreeThesis/Local_Development_Branch/openneuro_Data/sub-096\\eeg>>>>>>>\n",
      "Reading D:\\Workspace\\DepressionDetection_FreeThesis\\Local_Development_Branch\\openneuro_Data\\sub-096\\eeg\\sub-096_task-Rest_run-01_eeg.fdt\n",
      "Reading D:\\Workspace\\DepressionDetection_FreeThesis\\Local_Development_Branch\\openneuro_Data\\sub-096\\eeg\\sub-096_task-Rest_run-02_eeg.fdt\n"
     ]
    },
    {
     "name": "stderr",
     "output_type": "stream",
     "text": [
      "D:\\tmp\\ipykernel_7984\\289501458.py:80: RuntimeWarning: The data contains 'boundary' events, indicating data discontinuities. Be cautious of filtering and epoching around these events.\n",
      "  mne_obj = mne.io.read_raw_eeglab(mne_file)\n"
     ]
    },
    {
     "name": "stdout",
     "output_type": "stream",
     "text": [
      "<<<<<<<Processing D:/Workspace/DepressionDetection_FreeThesis/Local_Development_Branch/openneuro_Data/sub-097\\eeg>>>>>>>\n",
      "Reading D:\\Workspace\\DepressionDetection_FreeThesis\\Local_Development_Branch\\openneuro_Data\\sub-097\\eeg\\sub-097_task-Rest_run-01_eeg.fdt\n",
      "Reading D:\\Workspace\\DepressionDetection_FreeThesis\\Local_Development_Branch\\openneuro_Data\\sub-097\\eeg\\sub-097_task-Rest_run-02_eeg.fdt\n",
      "<<<<<<<Processing D:/Workspace/DepressionDetection_FreeThesis/Local_Development_Branch/openneuro_Data/sub-098\\eeg>>>>>>>\n",
      "Reading D:\\Workspace\\DepressionDetection_FreeThesis\\Local_Development_Branch\\openneuro_Data\\sub-098\\eeg\\sub-098_task-Rest_run-01_eeg.fdt\n",
      "Reading D:\\Workspace\\DepressionDetection_FreeThesis\\Local_Development_Branch\\openneuro_Data\\sub-098\\eeg\\sub-098_task-Rest_run-02_eeg.fdt\n",
      "<<<<<<<Processing D:/Workspace/DepressionDetection_FreeThesis/Local_Development_Branch/openneuro_Data/sub-099\\eeg>>>>>>>\n",
      "Reading D:\\Workspace\\DepressionDetection_FreeThesis\\Local_Development_Branch\\openneuro_Data\\sub-099\\eeg\\sub-099_task-Rest_run-01_eeg.fdt\n",
      "Reading D:\\Workspace\\DepressionDetection_FreeThesis\\Local_Development_Branch\\openneuro_Data\\sub-099\\eeg\\sub-099_task-Rest_run-02_eeg.fdt\n",
      "<<<<<<<Processing D:/Workspace/DepressionDetection_FreeThesis/Local_Development_Branch/openneuro_Data/sub-100\\eeg>>>>>>>\n",
      "Reading D:\\Workspace\\DepressionDetection_FreeThesis\\Local_Development_Branch\\openneuro_Data\\sub-100\\eeg\\sub-100_task-Rest_run-01_eeg.fdt\n",
      "Reading D:\\Workspace\\DepressionDetection_FreeThesis\\Local_Development_Branch\\openneuro_Data\\sub-100\\eeg\\sub-100_task-Rest_run-02_eeg.fdt\n",
      "<<<<<<<Processing D:/Workspace/DepressionDetection_FreeThesis/Local_Development_Branch/openneuro_Data/sub-101\\eeg>>>>>>>\n",
      "Reading D:\\Workspace\\DepressionDetection_FreeThesis\\Local_Development_Branch\\openneuro_Data\\sub-101\\eeg\\sub-101_task-Rest_run-01_eeg.fdt\n"
     ]
    },
    {
     "name": "stderr",
     "output_type": "stream",
     "text": [
      "D:\\tmp\\ipykernel_7984\\289501458.py:80: RuntimeWarning: The data contains 'boundary' events, indicating data discontinuities. Be cautious of filtering and epoching around these events.\n",
      "  mne_obj = mne.io.read_raw_eeglab(mne_file)\n"
     ]
    },
    {
     "name": "stdout",
     "output_type": "stream",
     "text": [
      "Reading D:\\Workspace\\DepressionDetection_FreeThesis\\Local_Development_Branch\\openneuro_Data\\sub-101\\eeg\\sub-101_task-Rest_run-02_eeg.fdt\n",
      "<<<<<<<Processing D:/Workspace/DepressionDetection_FreeThesis/Local_Development_Branch/openneuro_Data/sub-102\\eeg>>>>>>>\n",
      "Reading D:\\Workspace\\DepressionDetection_FreeThesis\\Local_Development_Branch\\openneuro_Data\\sub-102\\eeg\\sub-102_task-Rest_run-01_eeg.fdt\n",
      "Reading D:\\Workspace\\DepressionDetection_FreeThesis\\Local_Development_Branch\\openneuro_Data\\sub-102\\eeg\\sub-102_task-Rest_run-02_eeg.fdt\n",
      "<<<<<<<Processing D:/Workspace/DepressionDetection_FreeThesis/Local_Development_Branch/openneuro_Data/sub-103\\eeg>>>>>>>\n",
      "Reading D:\\Workspace\\DepressionDetection_FreeThesis\\Local_Development_Branch\\openneuro_Data\\sub-103\\eeg\\sub-103_task-Rest_run-01_eeg.fdt\n",
      "Reading D:\\Workspace\\DepressionDetection_FreeThesis\\Local_Development_Branch\\openneuro_Data\\sub-103\\eeg\\sub-103_task-Rest_run-02_eeg.fdt\n",
      "<<<<<<<Processing D:/Workspace/DepressionDetection_FreeThesis/Local_Development_Branch/openneuro_Data/sub-104\\eeg>>>>>>>\n",
      "Reading D:\\Workspace\\DepressionDetection_FreeThesis\\Local_Development_Branch\\openneuro_Data\\sub-104\\eeg\\sub-104_task-Rest_run-01_eeg.fdt\n",
      "Reading D:\\Workspace\\DepressionDetection_FreeThesis\\Local_Development_Branch\\openneuro_Data\\sub-104\\eeg\\sub-104_task-Rest_run-02_eeg.fdt\n",
      "<<<<<<<Processing D:/Workspace/DepressionDetection_FreeThesis/Local_Development_Branch/openneuro_Data/sub-105\\eeg>>>>>>>\n",
      "Reading D:\\Workspace\\DepressionDetection_FreeThesis\\Local_Development_Branch\\openneuro_Data\\sub-105\\eeg\\sub-105_task-Rest_run-01_eeg.fdt\n",
      "Reading D:\\Workspace\\DepressionDetection_FreeThesis\\Local_Development_Branch\\openneuro_Data\\sub-105\\eeg\\sub-105_task-Rest_run-02_eeg.fdt\n",
      "<<<<<<<Processing D:/Workspace/DepressionDetection_FreeThesis/Local_Development_Branch/openneuro_Data/sub-106\\eeg>>>>>>>\n",
      "Reading D:\\Workspace\\DepressionDetection_FreeThesis\\Local_Development_Branch\\openneuro_Data\\sub-106\\eeg\\sub-106_task-Rest_run-01_eeg.fdt\n",
      "Reading D:\\Workspace\\DepressionDetection_FreeThesis\\Local_Development_Branch\\openneuro_Data\\sub-106\\eeg\\sub-106_task-Rest_run-02_eeg.fdt\n",
      "<<<<<<<Processing D:/Workspace/DepressionDetection_FreeThesis/Local_Development_Branch/openneuro_Data/sub-107\\eeg>>>>>>>\n",
      "Reading D:\\Workspace\\DepressionDetection_FreeThesis\\Local_Development_Branch\\openneuro_Data\\sub-107\\eeg\\sub-107_task-Rest_run-01_eeg.fdt\n",
      "Reading D:\\Workspace\\DepressionDetection_FreeThesis\\Local_Development_Branch\\openneuro_Data\\sub-107\\eeg\\sub-107_task-Rest_run-02_eeg.fdt\n",
      "<<<<<<<Processing D:/Workspace/DepressionDetection_FreeThesis/Local_Development_Branch/openneuro_Data/sub-108\\eeg>>>>>>>\n",
      "Reading D:\\Workspace\\DepressionDetection_FreeThesis\\Local_Development_Branch\\openneuro_Data\\sub-108\\eeg\\sub-108_task-Rest_run-01_eeg.fdt\n",
      "Reading D:\\Workspace\\DepressionDetection_FreeThesis\\Local_Development_Branch\\openneuro_Data\\sub-108\\eeg\\sub-108_task-Rest_run-02_eeg.fdt\n",
      "<<<<<<<Processing D:/Workspace/DepressionDetection_FreeThesis/Local_Development_Branch/openneuro_Data/sub-109\\eeg>>>>>>>\n",
      "Reading D:\\Workspace\\DepressionDetection_FreeThesis\\Local_Development_Branch\\openneuro_Data\\sub-109\\eeg\\sub-109_task-Rest_run-01_eeg.fdt\n"
     ]
    },
    {
     "name": "stderr",
     "output_type": "stream",
     "text": [
      "D:\\tmp\\ipykernel_7984\\289501458.py:80: RuntimeWarning: The data contains 'boundary' events, indicating data discontinuities. Be cautious of filtering and epoching around these events.\n",
      "  mne_obj = mne.io.read_raw_eeglab(mne_file)\n"
     ]
    },
    {
     "name": "stdout",
     "output_type": "stream",
     "text": [
      "Reading D:\\Workspace\\DepressionDetection_FreeThesis\\Local_Development_Branch\\openneuro_Data\\sub-109\\eeg\\sub-109_task-Rest_run-02_eeg.fdt\n",
      "<<<<<<<Processing D:/Workspace/DepressionDetection_FreeThesis/Local_Development_Branch/openneuro_Data/sub-110\\eeg>>>>>>>\n",
      "Reading D:\\Workspace\\DepressionDetection_FreeThesis\\Local_Development_Branch\\openneuro_Data\\sub-110\\eeg\\sub-110_task-Rest_run-01_eeg.fdt\n",
      "Reading D:\\Workspace\\DepressionDetection_FreeThesis\\Local_Development_Branch\\openneuro_Data\\sub-110\\eeg\\sub-110_task-Rest_run-02_eeg.fdt\n",
      "<<<<<<<Processing D:/Workspace/DepressionDetection_FreeThesis/Local_Development_Branch/openneuro_Data/sub-111\\eeg>>>>>>>\n",
      "Reading D:\\Workspace\\DepressionDetection_FreeThesis\\Local_Development_Branch\\openneuro_Data\\sub-111\\eeg\\sub-111_task-Rest_run-01_eeg.fdt\n",
      "Reading D:\\Workspace\\DepressionDetection_FreeThesis\\Local_Development_Branch\\openneuro_Data\\sub-111\\eeg\\sub-111_task-Rest_run-02_eeg.fdt\n",
      "<<<<<<<Processing D:/Workspace/DepressionDetection_FreeThesis/Local_Development_Branch/openneuro_Data/sub-112\\eeg>>>>>>>\n",
      "Reading D:\\Workspace\\DepressionDetection_FreeThesis\\Local_Development_Branch\\openneuro_Data\\sub-112\\eeg\\sub-112_task-Rest_run-01_eeg.fdt\n",
      "Reading D:\\Workspace\\DepressionDetection_FreeThesis\\Local_Development_Branch\\openneuro_Data\\sub-112\\eeg\\sub-112_task-Rest_run-02_eeg.fdt\n",
      "<<<<<<<Processing D:/Workspace/DepressionDetection_FreeThesis/Local_Development_Branch/openneuro_Data/sub-113\\eeg>>>>>>>\n",
      "Reading D:\\Workspace\\DepressionDetection_FreeThesis\\Local_Development_Branch\\openneuro_Data\\sub-113\\eeg\\sub-113_task-Rest_run-01_eeg.fdt\n",
      "Reading D:\\Workspace\\DepressionDetection_FreeThesis\\Local_Development_Branch\\openneuro_Data\\sub-113\\eeg\\sub-113_task-Rest_run-02_eeg.fdt\n",
      "<<<<<<<Processing D:/Workspace/DepressionDetection_FreeThesis/Local_Development_Branch/openneuro_Data/sub-114\\eeg>>>>>>>\n",
      "Reading D:\\Workspace\\DepressionDetection_FreeThesis\\Local_Development_Branch\\openneuro_Data\\sub-114\\eeg\\sub-114_task-Rest_run-01_eeg.fdt\n",
      "Reading D:\\Workspace\\DepressionDetection_FreeThesis\\Local_Development_Branch\\openneuro_Data\\sub-114\\eeg\\sub-114_task-Rest_run-02_eeg.fdt\n",
      "<<<<<<<Processing D:/Workspace/DepressionDetection_FreeThesis/Local_Development_Branch/openneuro_Data/sub-115\\eeg>>>>>>>\n",
      "Reading D:\\Workspace\\DepressionDetection_FreeThesis\\Local_Development_Branch\\openneuro_Data\\sub-115\\eeg\\sub-115_task-Rest_run-01_eeg.fdt\n",
      "Reading D:\\Workspace\\DepressionDetection_FreeThesis\\Local_Development_Branch\\openneuro_Data\\sub-115\\eeg\\sub-115_task-Rest_run-02_eeg.fdt\n",
      "<<<<<<<Processing D:/Workspace/DepressionDetection_FreeThesis/Local_Development_Branch/openneuro_Data/sub-116\\eeg>>>>>>>\n",
      "Reading D:\\Workspace\\DepressionDetection_FreeThesis\\Local_Development_Branch\\openneuro_Data\\sub-116\\eeg\\sub-116_task-Rest_run-01_eeg.fdt\n",
      "Reading D:\\Workspace\\DepressionDetection_FreeThesis\\Local_Development_Branch\\openneuro_Data\\sub-116\\eeg\\sub-116_task-Rest_run-02_eeg.fdt\n",
      "<<<<<<<Processing D:/Workspace/DepressionDetection_FreeThesis/Local_Development_Branch/openneuro_Data/sub-117\\eeg>>>>>>>\n",
      "Reading D:\\Workspace\\DepressionDetection_FreeThesis\\Local_Development_Branch\\openneuro_Data\\sub-117\\eeg\\sub-117_task-Rest_run-01_eeg.fdt\n",
      "Reading D:\\Workspace\\DepressionDetection_FreeThesis\\Local_Development_Branch\\openneuro_Data\\sub-117\\eeg\\sub-117_task-Rest_run-02_eeg.fdt\n",
      "<<<<<<<Processing D:/Workspace/DepressionDetection_FreeThesis/Local_Development_Branch/openneuro_Data/sub-118\\eeg>>>>>>>\n",
      "Reading D:\\Workspace\\DepressionDetection_FreeThesis\\Local_Development_Branch\\openneuro_Data\\sub-118\\eeg\\sub-118_task-Rest_run-01_eeg.fdt\n",
      "Reading D:\\Workspace\\DepressionDetection_FreeThesis\\Local_Development_Branch\\openneuro_Data\\sub-118\\eeg\\sub-118_task-Rest_run-02_eeg.fdt\n",
      "<<<<<<<Processing D:/Workspace/DepressionDetection_FreeThesis/Local_Development_Branch/openneuro_Data/sub-119\\eeg>>>>>>>\n",
      "Reading D:\\Workspace\\DepressionDetection_FreeThesis\\Local_Development_Branch\\openneuro_Data\\sub-119\\eeg\\sub-119_task-Rest_run-01_eeg.fdt\n",
      "Reading D:\\Workspace\\DepressionDetection_FreeThesis\\Local_Development_Branch\\openneuro_Data\\sub-119\\eeg\\sub-119_task-Rest_run-02_eeg.fdt\n",
      "<<<<<<<Processing D:/Workspace/DepressionDetection_FreeThesis/Local_Development_Branch/openneuro_Data/sub-120\\eeg>>>>>>>\n",
      "Reading D:\\Workspace\\DepressionDetection_FreeThesis\\Local_Development_Branch\\openneuro_Data\\sub-120\\eeg\\sub-120_task-Rest_run-01_eeg.fdt\n",
      "Reading D:\\Workspace\\DepressionDetection_FreeThesis\\Local_Development_Branch\\openneuro_Data\\sub-120\\eeg\\sub-120_task-Rest_run-02_eeg.fdt\n",
      "<<<<<<<Processing D:/Workspace/DepressionDetection_FreeThesis/Local_Development_Branch/openneuro_Data/sub-121\\eeg>>>>>>>\n",
      "Reading D:\\Workspace\\DepressionDetection_FreeThesis\\Local_Development_Branch\\openneuro_Data\\sub-121\\eeg\\sub-121_task-Rest_run-01_eeg.fdt\n",
      "Reading D:\\Workspace\\DepressionDetection_FreeThesis\\Local_Development_Branch\\openneuro_Data\\sub-121\\eeg\\sub-121_task-Rest_run-02_eeg.fdt\n",
      "<<<<<<<Processing D:/Workspace/DepressionDetection_FreeThesis/Local_Development_Branch/openneuro_Data/sub-122\\eeg>>>>>>>\n",
      "Reading D:\\Workspace\\DepressionDetection_FreeThesis\\Local_Development_Branch\\openneuro_Data\\sub-122\\eeg\\sub-122_task-Rest_run-01_eeg.fdt\n"
     ]
    },
    {
     "name": "stderr",
     "output_type": "stream",
     "text": [
      "D:\\tmp\\ipykernel_7984\\289501458.py:80: RuntimeWarning: The data contains 'boundary' events, indicating data discontinuities. Be cautious of filtering and epoching around these events.\n",
      "  mne_obj = mne.io.read_raw_eeglab(mne_file)\n"
     ]
    },
    {
     "name": "stdout",
     "output_type": "stream",
     "text": [
      "Reading D:\\Workspace\\DepressionDetection_FreeThesis\\Local_Development_Branch\\openneuro_Data\\sub-122\\eeg\\sub-122_task-Rest_run-02_eeg.fdt\n",
      "1476.9756548404694\n"
     ]
    }
   ],
   "source": [
    "file_path = root_path+file_path_openneuro\n",
    "\n",
    "start = time.time()\n",
    "ls = SignalExtraction.read_mne_iterator(file_path, None)\n",
    "end = time.time()\n",
    "\n",
    "print(end - start)"
   ]
  },
  {
   "cell_type": "code",
   "execution_count": 9,
   "metadata": {},
   "outputs": [
    {
     "name": "stdout",
     "output_type": "stream",
     "text": [
      "150.5543818473816\n"
     ]
    },
    {
     "data": {
      "text/plain": [
       "225"
      ]
     },
     "execution_count": 9,
     "metadata": {},
     "output_type": "execute_result"
    }
   ],
   "source": [
    "sliceSize = 6\n",
    "bandFreqRange = [0.5, 100]\n",
    "downsampleFreq = 200\n",
    "subSliceSize = 2\n",
    "\n",
    "start = time.time()\n",
    "training_data, error_data = SignalProcessing.signal_processing_iterator(ls, sampleFrequency, bandFreqRange, downsampleFreq, sliceSize, subSliceSize)\n",
    "end = time.time()\n",
    "\n",
    "print(end - start)\n",
    "\n",
    "len(training_data)"
   ]
  },
  {
   "cell_type": "code",
   "execution_count": 10,
   "metadata": {},
   "outputs": [],
   "source": [
    "X = TrainingData.trainingData_iterator(training_data)"
   ]
  },
  {
   "cell_type": "code",
   "execution_count": 11,
   "metadata": {},
   "outputs": [
    {
     "data": {
      "text/plain": [
       "(38223, 13278, 24945)"
      ]
     },
     "execution_count": 11,
     "metadata": {},
     "output_type": "execute_result"
    }
   ],
   "source": [
    "# Distribution of categorical Variable\n",
    "\n",
    "ls = []\n",
    "for i in X:\n",
    "    signal_slice, Adj_dist_matrix, bdi_label = i\n",
    "    ls.append(bdi_label)\n",
    "\n",
    "len(ls), sum(ls), len(ls)-sum(ls)"
   ]
  },
  {
   "cell_type": "code",
   "execution_count": 12,
   "metadata": {},
   "outputs": [],
   "source": [
    "path = file_path+'TrainingData_Pickle/'+'training_data.p'\n",
    "pickle.dump(X, open( path, \"wb\" ))"
   ]
  },
  {
   "cell_type": "markdown",
   "metadata": {},
   "source": [
    "--------------------------------------------------------------------------------------------------------------------------------------------------------------------------------"
   ]
  },
  {
   "cell_type": "markdown",
   "metadata": {},
   "source": [
    "CACHE"
   ]
  },
  {
   "cell_type": "code",
   "execution_count": null,
   "metadata": {},
   "outputs": [],
   "source": []
  }
 ],
 "metadata": {
  "kernelspec": {
   "display_name": "Python 3",
   "language": "python",
   "name": "python3"
  },
  "language_info": {
   "codemirror_mode": {
    "name": "ipython",
    "version": 3
   },
   "file_extension": ".py",
   "mimetype": "text/x-python",
   "name": "python",
   "nbconvert_exporter": "python",
   "pygments_lexer": "ipython3",
   "version": "3.11.4"
  }
 },
 "nbformat": 4,
 "nbformat_minor": 2
}
